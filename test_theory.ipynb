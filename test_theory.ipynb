{
 "cells": [
  {
   "cell_type": "markdown",
   "metadata": {},
   "source": [
    "QUESTIONS:\n",
    "si on transforme notre kernel de base en un kernel multi symétrique on change l'effet du kernel ?\n",
    "on devrait étudier le lien entre le kernel initial et celui transformé pour voir si ils ont les mêmes actions"
   ]
  },
  {
   "cell_type": "markdown",
   "metadata": {},
   "source": [
    "IMPORT DES FONCTIONS IMPORTANTES"
   ]
  },
  {
   "cell_type": "code",
   "execution_count": 24,
   "metadata": {},
   "outputs": [],
   "source": [
    "import torch\n",
    "import torch.nn.functional as F\n",
    "import torch.nn.utils.parametrize as parametrize\n",
    "import numpy as np\n",
    "from PIL import Image\n",
    "import matplotlib.pyplot as plt"
   ]
  },
  {
   "cell_type": "markdown",
   "metadata": {},
   "source": [
    "Création d'une base de donnée intéressante"
   ]
  },
  {
   "cell_type": "markdown",
   "metadata": {},
   "source": [
    "TRANSFORMER UNE MATRICE EN UNE MATRICE SYMETRIQUE DE TOUTES DIRECTIONS"
   ]
  },
  {
   "cell_type": "code",
   "execution_count": 25,
   "metadata": {},
   "outputs": [
    {
     "name": "stdout",
     "output_type": "stream",
     "text": [
      "tensor([[  1.,   0., -10.],\n",
      "        [  2.,   0.,  -2.],\n",
      "        [  1.,   0.,  -1.]])\n",
      "tensor([[-9.,  0., -9.],\n",
      "        [ 0.,  0.,  0.],\n",
      "        [-9.,  0., -9.]])\n"
     ]
    }
   ],
   "source": [
    "def invar(X):\n",
    "    a=torch.rot90(X, 1, [1,0])\n",
    "    b=torch.rot90(a, 1, [1,0])\n",
    "    c=torch.rot90(b, 1, [1,0])\n",
    "    d= X+a+b+c\n",
    "    return(d)\n",
    "\n"
   ]
  },
  {
   "cell_type": "markdown",
   "metadata": {},
   "source": [
    "cnn UNE COUCHE AVEC UNE IMAGE EN ENTREE"
   ]
  },
  {
   "cell_type": "code",
   "execution_count": 28,
   "metadata": {},
   "outputs": [
    {
     "name": "stdout",
     "output_type": "stream",
     "text": [
      "tensor([[[[0.9377, 0.6152, 0.9357, 0.5170, 0.6549],\n",
      "          [0.3172, 0.4478, 0.3516, 0.5399, 0.4602],\n",
      "          [0.0376, 0.5399, 0.8279, 0.4422, 0.8943],\n",
      "          [0.0546, 0.7707, 0.1115, 0.6074, 0.8308],\n",
      "          [0.3144, 0.1282, 0.7810, 0.8668, 0.6794]]]])\n",
      "tensor([[[[0.3144, 0.0546, 0.0376, 0.3172, 0.9377],\n",
      "          [0.1282, 0.7707, 0.5399, 0.4478, 0.6152],\n",
      "          [0.7810, 0.1115, 0.8279, 0.3516, 0.9357],\n",
      "          [0.8668, 0.6074, 0.4422, 0.5399, 0.5170],\n",
      "          [0.6794, 0.8308, 0.8943, 0.4602, 0.6549]]]])\n",
      "tensor([[[[2.1828, 2.7560, 2.1828],\n",
      "          [2.7560, 1.7614, 2.7560],\n",
      "          [2.1828, 2.7560, 2.1828]]]])\n"
     ]
    }
   ],
   "source": [
    "#Initialisation des images d'entrée et des kernels\n",
    "\n",
    "#IMAGE DROITE\n",
    "Input=torch.rand(5,5)\n",
    "Input1 = Input.view(1,1,5,5)\n",
    "print(Input1)\n",
    "\n",
    "\n",
    "#IMAGE TOURNEE\n",
    "Input2=torch.rot90(Input, 1, [1,0])\n",
    "Input3=Input2.view(1,1,5,5)\n",
    "print(Input3)\n",
    "\n",
    "\n",
    "#KERNEL\n",
    "K=np.random.rand(3,3)\n",
    "K1 =  torch.Tensor(K)\n",
    "K2=invar(K1)\n",
    "Kernel=K2.view(1,1,3,3)\n",
    "print(Kernel)\n",
    "\n",
    "\n"
   ]
  },
  {
   "cell_type": "code",
   "execution_count": 29,
   "metadata": {},
   "outputs": [
    {
     "name": "stdout",
     "output_type": "stream",
     "text": [
      "tensor([[[[ 5.1988,  8.9408,  7.8935,  8.5546,  5.0253],\n",
      "          [ 7.0020, 11.7938, 12.8173, 13.0633,  8.6621],\n",
      "          [ 5.2386,  8.5170, 10.6056, 12.5165,  8.8566],\n",
      "          [ 4.6485,  7.9370, 12.7445, 14.2219, 10.3318],\n",
      "          [ 2.7399,  5.7315,  7.4335,  9.2828,  7.2012]]]])\n"
     ]
    }
   ],
   "source": [
    "#Input1 = torch.randn(1,1,5,5)\n",
    "#rint(Input1)\n",
    "#Input2=torch.rot90(Input1, 1, [1,0])\n",
    "#print(Input2)\n",
    "#print(Input2)  # création de 2 inputs avec une rotation de 90° entre eux\n",
    "\n",
    "#print(Input==Input2)\n",
    "#K=np.random.rand(3,3)\n",
    "#K1 =  torch.Tensor(K)\n",
    "#K2=invar(K1)\n",
    "#print(K2)\n",
    "\n",
    "#K3 = torch.cat((K2, K2), 0)\n",
    "\n",
    "#Kernel = K3.view(2, 1, 3, 3)\n",
    "#Kernel=K2.view(1,1,3,3)\n",
    "\n",
    "output1 = F.conv2d(Input1, Kernel,padding=(1, 1))\n",
    "#output2 = F.conv2d(Input2, Kernel,padding=(1, 1))\n",
    "print(output1)\n",
    "#print(output2)\n",
    "#print(output1==output2)\n",
    "\n",
    "#PROBLEME PAS CLAIR ICI, QUE JE LANCE OUTPUT 1 ET OUTPUT 2 SEPAREMENT ILS ONT DES VALEURS DIFFERENTES ET QUAND JE LES LANCE EN MEME TEMPS CA DONNE LA \n",
    "#MEME VALEUR HAHAHAH\n",
    "\n",
    "#EN FAIT IL MANQUE IL PAIRE DE CROCHET AU KERNEL POUR EN FAIRE UN WEIGHT\n"
   ]
  },
  {
   "cell_type": "markdown",
   "metadata": {},
   "source": [
    "MEME CNN UNE COUCHE AVEC EN ENTREE LA MEME IMAGE MAIS TOURNEE"
   ]
  },
  {
   "cell_type": "code",
   "execution_count": 30,
   "metadata": {},
   "outputs": [
    {
     "name": "stdout",
     "output_type": "stream",
     "text": [
      "tensor([[[[ 2.7399,  4.6485,  5.2386,  7.0020,  5.1988],\n",
      "          [ 5.7315,  7.9370,  8.5170, 11.7938,  8.9408],\n",
      "          [ 7.4335, 12.7445, 10.6056, 12.8173,  7.8935],\n",
      "          [ 9.2828, 14.2219, 12.5165, 13.0633,  8.5546],\n",
      "          [ 7.2012, 10.3318,  8.8566,  8.6621,  5.0253]]]])\n"
     ]
    }
   ],
   "source": [
    "#Input1 = torch.randn(5,5)\n",
    "#print(Input)\n",
    "#Input2=torch.rot90(Input1, 1, [1,0])\n",
    "#Input3=Input2.view(1,1,5,5)\n",
    "#print(Input1)\n",
    "#print(Input3)\n",
    "#CEST BON LIMAGE TOURRRNNNNNNNNNNNE AVEC VIEW MIS APRES\n",
    "#print(Input)\n",
    "#print(Input2)  # création de 2 inputs avec une rotation de 90° entre eux\n",
    "\n",
    "\n",
    "#K=np.random.rand(3,3)\n",
    "#K1 =  torch.Tensor(K)\n",
    "#K2=invar(K1)\n",
    "#print(K2)\n",
    "#LE KERNEL EST BIEN INVARIANT PAR ROTATION\n",
    "#K3 = torch.cat((K2, K2), 0)\n",
    "\n",
    "#Kernel = K3.view(2, 1, 3, 3)\n",
    "#Kernel = K2.view(1,1,3,3)\n",
    "#output1 = F.conv2d(Input1, Kernel,padding=(1, 1))\n",
    "output2 = F.conv2d(Input3, Kernel,padding=(1, 1))\n",
    "#print(output1)\n",
    "print(output2)\n",
    "#print(output1==output2)\n"
   ]
  },
  {
   "cell_type": "code",
   "execution_count": 31,
   "metadata": {},
   "outputs": [
    {
     "name": "stdout",
     "output_type": "stream",
     "text": [
      "image origine =\n",
      "tensor([[[[0.9377, 0.6152, 0.9357, 0.5170, 0.6549],\n",
      "          [0.3172, 0.4478, 0.3516, 0.5399, 0.4602],\n",
      "          [0.0376, 0.5399, 0.8279, 0.4422, 0.8943],\n",
      "          [0.0546, 0.7707, 0.1115, 0.6074, 0.8308],\n",
      "          [0.3144, 0.1282, 0.7810, 0.8668, 0.6794]]]])\n",
      "image tournée de 90°=\n",
      "tensor([[0.3144, 0.0546, 0.0376, 0.3172, 0.9377],\n",
      "        [0.1282, 0.7707, 0.5399, 0.4478, 0.6152],\n",
      "        [0.7810, 0.1115, 0.8279, 0.3516, 0.9357],\n",
      "        [0.8668, 0.6074, 0.4422, 0.5399, 0.5170],\n",
      "        [0.6794, 0.8308, 0.8943, 0.4602, 0.6549]])\n",
      "Sortie du CNN pour image origine =\n",
      "tensor([[[[ 5.1988,  8.9408,  7.8935,  8.5546,  5.0253],\n",
      "          [ 7.0020, 11.7938, 12.8173, 13.0633,  8.6621],\n",
      "          [ 5.2386,  8.5170, 10.6056, 12.5165,  8.8566],\n",
      "          [ 4.6485,  7.9370, 12.7445, 14.2219, 10.3318],\n",
      "          [ 2.7399,  5.7315,  7.4335,  9.2828,  7.2012]]]])\n",
      "sortie du CNN pour image tournée de 90° =\n",
      "tensor([[[[ 2.7399,  4.6485,  5.2386,  7.0020,  5.1988],\n",
      "          [ 5.7315,  7.9370,  8.5170, 11.7938,  8.9408],\n",
      "          [ 7.4335, 12.7445, 10.6056, 12.8173,  7.8935],\n",
      "          [ 9.2828, 14.2219, 12.5165, 13.0633,  8.5546],\n",
      "          [ 7.2012, 10.3318,  8.8566,  8.6621,  5.0253]]]])\n"
     ]
    }
   ],
   "source": [
    "# AFFICHAGE DES IMAGES D'ORIGINE ET DES SORTIE DU CNN\n",
    "\n",
    "print('image origine =')\n",
    "print(Input1)\n",
    "print('image tournée de 90°=')\n",
    "print(Input2)\n",
    "\n",
    "print('Sortie du CNN pour image origine =')\n",
    "print(output1)\n",
    "print('sortie du CNN pour image tournée de 90° =')\n",
    "print(output2)"
   ]
  },
  {
   "cell_type": "markdown",
   "metadata": {},
   "source": [
    "C'EST INVARIANT PAR ROTATION\n",
    "IL RESTE DEMAIN A FAIRE UNE PETITE ROTATION DANS LAUTRE SENS ET MONTRER QUE CEST LES MEMES !!!!!!!!!! MAIS CA SE VOIT BIEN "
   ]
  },
  {
   "cell_type": "code",
   "execution_count": 32,
   "metadata": {},
   "outputs": [
    {
     "name": "stdout",
     "output_type": "stream",
     "text": [
      "[[ True  True  True  True  True]\n",
      " [ True  True  True  True  True]\n",
      " [ True  True  True  True  True]\n",
      " [ True  True  True  True  True]\n",
      " [ True  True  True  True  True]]\n"
     ]
    }
   ],
   "source": [
    "#ON COMPARE LES DEUX IMAGES EN LES FAISANT TOURNER\n",
    "\n",
    "output1bis=output1.view(5,5) #j'enlève une paire de crochet pour retransformé en tensor puis en envoi dans la fonction qui fait tourner\n",
    "output1tourne=torch.rot90(output1bis,1,[1,0]) # on fait tourner la sortie\n",
    "outputcompare=output1tourne.view(1,1,5,5) # \n",
    "#print(output2)\n",
    "#print(outputcompare)\n",
    "output2np= output2.numpy()[0][0] # passage de torch à un numpy array et on enlève les crochet avec [0][0]\n",
    "outputcomparenp= outputcompare.numpy()[0][0] \n",
    "output2npround=np.round(output2np,2) # arrondi à deux chiffres après la virgule car sinon le test d'égalité bug un peu \n",
    "outputcomparenpround=np.round(outputcomparenp,2)\n",
    "\n",
    "#print(output2npround)\n",
    "#print(outputcomparenpround)\n",
    "\n",
    "print(output2npround==outputcomparenpround) # test d'égalité final\n",
    "\n",
    "\n"
   ]
  },
  {
   "cell_type": "markdown",
   "metadata": {},
   "source": [
    "TEST CREATION KERNEL TAILLE 3*3*2"
   ]
  }
 ],
 "metadata": {
  "interpreter": {
   "hash": "10504eabe9e4975a20aac45f38d97beb386351f1a85f88517fb3933ef56ec686"
  },
  "kernelspec": {
   "display_name": "Python 3.9.7 64-bit (windows store)",
   "name": "python3"
  },
  "language_info": {
   "codemirror_mode": {
    "name": "ipython",
    "version": 3
   },
   "file_extension": ".py",
   "mimetype": "text/x-python",
   "name": "python",
   "nbconvert_exporter": "python",
   "pygments_lexer": "ipython3",
   "version": "3.9.7"
  },
  "orig_nbformat": 4
 },
 "nbformat": 4,
 "nbformat_minor": 2
}
