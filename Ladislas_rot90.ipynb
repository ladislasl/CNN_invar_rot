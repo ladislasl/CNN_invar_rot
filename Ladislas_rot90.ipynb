{
 "cells": [
  {
   "cell_type": "markdown",
   "metadata": {},
   "source": [
    "QUESTIONS:\n",
    "si on transforme notre kernel de base en un kernel multi symétrique on change l'effet du kernel ?\n",
    "on devrait étudier le lien entre le kernel initial et celui transformé pour voir si ils ont les mêmes actions"
   ]
  },
  {
   "cell_type": "markdown",
   "metadata": {},
   "source": [
    "IMPORT DES FONCTIONS IMPORTANTES"
   ]
  },
  {
   "cell_type": "code",
   "execution_count": 5,
   "metadata": {},
   "outputs": [],
   "source": [
    "import torch\n",
    "import torch.nn.functional as F\n",
    "import torch.nn.utils.parametrize as parametrize\n",
    "import numpy as np"
   ]
  },
  {
   "cell_type": "markdown",
   "metadata": {},
   "source": [
    "TEST SUR LE ROT90"
   ]
  },
  {
   "cell_type": "code",
   "execution_count": 6,
   "metadata": {},
   "outputs": [
    {
     "name": "stdout",
     "output_type": "stream",
     "text": [
      "tensor([[[[0.1870, 0.5139],\n",
      "          [0.8232, 0.1007]]]])\n",
      "tensor([[0.1870, 0.5139],\n",
      "        [0.8232, 0.1007]])\n"
     ]
    }
   ],
   "source": [
    "#TEST SUR LE TORCH.RAND\n",
    "Input=torch.rand(2,2)\n",
    "Input3=Input.view(1,1,2,2)\n",
    "Input2=torch.rand(1,1,2,2)\n",
    "Input4=Input2.view(2,2)\n",
    "rot=torch.rot90(Input2,1,[1,0])\n",
    "print(Input2)\n",
    "print(Input4)"
   ]
  },
  {
   "cell_type": "code",
   "execution_count": 7,
   "metadata": {},
   "outputs": [
    {
     "name": "stdout",
     "output_type": "stream",
     "text": [
      "tensor([[0.6095, 0.9009, 0.0628, 0.9988, 0.2177],\n",
      "        [0.5391, 0.7443, 0.2524, 0.0031, 0.8613],\n",
      "        [0.0232, 0.9158, 0.1274, 0.3924, 0.8788],\n",
      "        [0.4317, 0.0669, 0.2779, 0.5404, 0.0555],\n",
      "        [0.0759, 0.0151, 0.2402, 0.4712, 0.6888]])\n",
      "tensor([[0.2177, 0.8613, 0.8788, 0.0555, 0.6888],\n",
      "        [0.9988, 0.0031, 0.3924, 0.5404, 0.4712],\n",
      "        [0.0628, 0.2524, 0.1274, 0.2779, 0.2402],\n",
      "        [0.9009, 0.7443, 0.9158, 0.0669, 0.0151],\n",
      "        [0.6095, 0.5391, 0.0232, 0.4317, 0.0759]])\n"
     ]
    }
   ],
   "source": [
    "Input = torch.rand(5,5)\n",
    "print(Input)\n",
    "a=torch.rot90(Input, 1, [0, 1])\n",
    "print(a)\n",
    "\n",
    "#a = torch.arange(8).view(2, 2, 2)\n",
    "#print(x)\n",
    "#a=torch.rot90(x, 1, [1, 2])\n",
    "#print(a)\n"
   ]
  },
  {
   "cell_type": "markdown",
   "metadata": {},
   "source": [
    "TRANSFORMER UNE MATRICE EN UNE MATRICE SYMETRIQUE DE TOUTES DIRECTIONS"
   ]
  },
  {
   "cell_type": "code",
   "execution_count": 8,
   "metadata": {},
   "outputs": [
    {
     "name": "stdout",
     "output_type": "stream",
     "text": [
      "tensor([[2.2883, 1.1516, 2.2883],\n",
      "        [1.1516, 2.2758, 1.1516],\n",
      "        [2.2883, 1.1516, 2.2883]])\n"
     ]
    }
   ],
   "source": [
    "def invar(X):\n",
    "    a=torch.rot90(X, 1, [1,0])\n",
    "    b=torch.rot90(a, 1, [1,0])\n",
    "    c=torch.rot90(b, 1, [1,0])\n",
    "    d= X+a+b+c\n",
    "    return(d)\n",
    "K =  torch.Tensor([[1 ,0, -10],[2, 0 ,-2], [1, 0 ,-1]])\n",
    "\n",
    "K1=np.random.rand(3,3)\n",
    "K3 =  torch.Tensor(K1)\n",
    "K4=invar(K3)\n",
    "print(K4)\n",
    "\n"
   ]
  },
  {
   "cell_type": "markdown",
   "metadata": {},
   "source": [
    "Compréhension des axes à rotater"
   ]
  },
  {
   "cell_type": "code",
   "execution_count": 9,
   "metadata": {},
   "outputs": [
    {
     "name": "stdout",
     "output_type": "stream",
     "text": [
      "tensor([[ 0.1828, -0.9258, -0.4833, -0.7715,  1.5429],\n",
      "        [-1.7849, -0.7335, -1.8817,  0.2338,  0.6198],\n",
      "        [ 1.2577, -0.1311, -0.0236,  0.2603,  0.1551],\n",
      "        [ 0.3655,  0.1038, -1.1428, -1.4976, -0.8011],\n",
      "        [ 1.9314, -0.4522, -0.4421,  0.8103,  0.2718]])\n",
      "tensor([[ 1.9314,  0.3655,  1.2577, -1.7849,  0.1828],\n",
      "        [-0.4522,  0.1038, -0.1311, -0.7335, -0.9258],\n",
      "        [-0.4421, -1.1428, -0.0236, -1.8817, -0.4833],\n",
      "        [ 0.8103, -1.4976,  0.2603,  0.2338, -0.7715],\n",
      "        [ 0.2718, -0.8011,  0.1551,  0.6198,  1.5429]])\n",
      "tensor([[False, False, False, False, False],\n",
      "        [False, False, False, False, False],\n",
      "        [False, False,  True, False, False],\n",
      "        [False, False, False, False, False],\n",
      "        [False, False, False, False, False]])\n"
     ]
    }
   ],
   "source": [
    "#K =  torch.Tensor([[100 ,0, 0, 0,0 ],[0, 100 ,0, 0,0], [0, 0 ,100,0,0],[0, 0 ,0,100,0],[0, 0 ,0,0,100]])\n",
    "#print(K)\n",
    "#a=torch.rot90(K, 1, [1,0])\n",
    "#print(a)\n",
    "Input = torch.randn(5,5)\n",
    "#print(Input)\n",
    "Input2=torch.rot90(Input, 1, [1,0])\n",
    "print(Input)\n",
    "print(Input2)\n",
    "print(Input==Input2)"
   ]
  },
  {
   "cell_type": "markdown",
   "metadata": {},
   "source": [
    "TEST CONV2D"
   ]
  },
  {
   "cell_type": "code",
   "execution_count": 11,
   "metadata": {},
   "outputs": [
    {
     "name": "stdout",
     "output_type": "stream",
     "text": [
      "tensor([[[  1.,   0.,  -1.],\n",
      "         [  2.,   0., -10.],\n",
      "         [  1.,   0.,  -1.]],\n",
      "\n",
      "        [[  1.,   0.,  -1.],\n",
      "         [  2.,   0., -10.],\n",
      "         [  1.,   0.,  -1.]]])\n",
      "tensor([[[[  1.,   0.,  -1.],\n",
      "          [  2.,   0., -10.],\n",
      "          [  1.,   0.,  -1.]]],\n",
      "\n",
      "\n",
      "        [[[  1.,   0.,  -1.],\n",
      "          [  2.,   0., -10.],\n",
      "          [  1.,   0.,  -1.]]]])\n"
     ]
    }
   ],
   "source": [
    "Input = torch.rand(1,1,5,5)\n",
    "#print(Input)\n",
    "K =  torch.Tensor([[[1 ,0, -1],[2, 0 ,-10], [1, 0 ,-1]],[[1 ,0, -1],[2, 0 ,-10], [1, 0 ,-1]]])\n",
    "#K=invar(K)\n",
    "#K=invar(K)\n",
    "print(K)\n",
    "Kernel = K.view(2, 1, 3, 3)\n",
    "print(Kernel)\n",
    "output = F.conv2d(Input, Kernel)\n",
    "#print(output)\n"
   ]
  },
  {
   "cell_type": "markdown",
   "metadata": {},
   "source": [
    "cnn UNE COUCHE AVEC UNE IMAGE EN ENTREE"
   ]
  },
  {
   "cell_type": "code",
   "execution_count": 12,
   "metadata": {},
   "outputs": [
    {
     "name": "stdout",
     "output_type": "stream",
     "text": [
      "tensor([[[[0.1685, 0.9306, 0.7675, 0.8790, 0.1630],\n",
      "          [0.2617, 0.3264, 0.2813, 0.3905, 0.9937],\n",
      "          [0.3568, 0.7615, 0.0380, 0.6555, 0.1357],\n",
      "          [0.1054, 0.2562, 0.4356, 0.6814, 0.6996],\n",
      "          [0.0244, 0.3434, 0.0893, 0.2652, 0.1504]]]])\n",
      "tensor([[[[0.0244, 0.1054, 0.3568, 0.2617, 0.1685],\n",
      "          [0.3434, 0.2562, 0.7615, 0.3264, 0.9306],\n",
      "          [0.0893, 0.4356, 0.0380, 0.2813, 0.7675],\n",
      "          [0.2652, 0.6814, 0.6555, 0.3905, 0.8790],\n",
      "          [0.1504, 0.6996, 0.1357, 0.9937, 0.1630]]]])\n",
      "tensor([[[[1.9966, 1.4300, 1.9966],\n",
      "          [1.4300, 1.1841, 1.4300],\n",
      "          [1.9966, 1.4300, 1.9966]]]])\n"
     ]
    }
   ],
   "source": [
    "#Initialisation des images d'entrée et des kernels\n",
    "\n",
    "#IMAGE DROITE\n",
    "Input=torch.rand(5,5)\n",
    "Input1 = Input.view(1,1,5,5)\n",
    "print(Input1)\n",
    "\n",
    "\n",
    "#IMAGE TOURNEE\n",
    "Input2=torch.rot90(Input, 1, [1,0])\n",
    "Input3=Input2.view(1,1,5,5)\n",
    "print(Input3)\n",
    "\n",
    "\n",
    "#KERNEL\n",
    "K=np.random.rand(3,3)\n",
    "K1 =  torch.Tensor(K)\n",
    "K2=invar(K1)\n",
    "Kernel=K2.view(1,1,3,3)\n",
    "print(Kernel)\n",
    "\n",
    "\n"
   ]
  },
  {
   "cell_type": "code",
   "execution_count": 13,
   "metadata": {},
   "outputs": [
    {
     "name": "stdout",
     "output_type": "stream",
     "text": [
      "tensor([[[[2.5562, 3.9913, 5.3303, 5.4755, 3.6507],\n",
      "          [4.9061, 6.2397, 8.9525, 6.6849, 5.2262],\n",
      "          [3.1996, 4.4636, 6.4000, 7.3696, 5.6597],\n",
      "          [3.2421, 3.6722, 6.0831, 4.5726, 4.0504],\n",
      "          [1.1821, 2.0157, 3.4710, 3.8978, 2.9183]]]])\n"
     ]
    }
   ],
   "source": [
    "#Input1 = torch.randn(1,1,5,5)\n",
    "#rint(Input1)\n",
    "#Input2=torch.rot90(Input1, 1, [1,0])\n",
    "#print(Input2)\n",
    "#print(Input2)  # création de 2 inputs avec une rotation de 90° entre eux\n",
    "\n",
    "#print(Input==Input2)\n",
    "#K=np.random.rand(3,3)\n",
    "#K1 =  torch.Tensor(K)\n",
    "#K2=invar(K1)\n",
    "#print(K2)\n",
    "\n",
    "#K3 = torch.cat((K2, K2), 0)\n",
    "\n",
    "#Kernel = K3.view(2, 1, 3, 3)\n",
    "#Kernel=K2.view(1,1,3,3)\n",
    "\n",
    "output1 = F.conv2d(Input1, Kernel,padding=(1, 1))\n",
    "#output2 = F.conv2d(Input2, Kernel,padding=(1, 1))\n",
    "print(output1)\n",
    "#print(output2)\n",
    "#print(output1==output2)\n",
    "\n",
    "#PROBLEME PAS CLAIR ICI, QUE JE LANCE OUTPUT 1 ET OUTPUT 2 SEPAREMENT ILS ONT DES VALEURS DIFFERENTES ET QUAND JE LES LANCE EN MEME TEMPS CA DONNE LA \n",
    "#MEME VALEUR HAHAHAH\n",
    "\n",
    "#EN FAIT IL MANQUE IL PAIRE DE CROCHET AU KERNEL POUR EN FAIRE UN WEIGHT\n"
   ]
  },
  {
   "cell_type": "markdown",
   "metadata": {},
   "source": [
    "MEME CNN UNE COUCHE AVEC EN ENTREE LA MEME IMAGE MAIS TOURNEE"
   ]
  },
  {
   "cell_type": "code",
   "execution_count": 14,
   "metadata": {},
   "outputs": [
    {
     "name": "stdout",
     "output_type": "stream",
     "text": [
      "tensor([[[[1.1821, 3.2421, 3.1996, 4.9061, 2.5562],\n",
      "          [2.0157, 3.6722, 4.4636, 6.2397, 3.9913],\n",
      "          [3.4710, 6.0831, 6.4000, 8.9525, 5.3303],\n",
      "          [3.8978, 4.5726, 7.3696, 6.6849, 5.4755],\n",
      "          [2.9183, 4.0504, 5.6597, 5.2262, 3.6507]]]])\n"
     ]
    }
   ],
   "source": [
    "#Input1 = torch.randn(5,5)\n",
    "#print(Input)\n",
    "#Input2=torch.rot90(Input1, 1, [1,0])\n",
    "#Input3=Input2.view(1,1,5,5)\n",
    "#print(Input1)\n",
    "#print(Input3)\n",
    "#CEST BON LIMAGE TOURRRNNNNNNNNNNNE AVEC VIEW MIS APRES\n",
    "#print(Input)\n",
    "#print(Input2)  # création de 2 inputs avec une rotation de 90° entre eux\n",
    "\n",
    "\n",
    "#K=np.random.rand(3,3)\n",
    "#K1 =  torch.Tensor(K)\n",
    "#K2=invar(K1)\n",
    "#print(K2)\n",
    "#LE KERNEL EST BIEN INVARIANT PAR ROTATION\n",
    "#K3 = torch.cat((K2, K2), 0)\n",
    "\n",
    "#Kernel = K3.view(2, 1, 3, 3)\n",
    "#Kernel = K2.view(1,1,3,3)\n",
    "#output1 = F.conv2d(Input1, Kernel,padding=(1, 1))\n",
    "output2 = F.conv2d(Input3, Kernel,padding=(1, 1))\n",
    "#print(output1)\n",
    "print(output2)\n",
    "#print(output1==output2)\n"
   ]
  },
  {
   "cell_type": "code",
   "execution_count": 15,
   "metadata": {},
   "outputs": [
    {
     "name": "stdout",
     "output_type": "stream",
     "text": [
      "image origine =\n",
      "tensor([[[[0.1685, 0.9306, 0.7675, 0.8790, 0.1630],\n",
      "          [0.2617, 0.3264, 0.2813, 0.3905, 0.9937],\n",
      "          [0.3568, 0.7615, 0.0380, 0.6555, 0.1357],\n",
      "          [0.1054, 0.2562, 0.4356, 0.6814, 0.6996],\n",
      "          [0.0244, 0.3434, 0.0893, 0.2652, 0.1504]]]])\n",
      "image tournée de 90°=\n",
      "tensor([[0.0244, 0.1054, 0.3568, 0.2617, 0.1685],\n",
      "        [0.3434, 0.2562, 0.7615, 0.3264, 0.9306],\n",
      "        [0.0893, 0.4356, 0.0380, 0.2813, 0.7675],\n",
      "        [0.2652, 0.6814, 0.6555, 0.3905, 0.8790],\n",
      "        [0.1504, 0.6996, 0.1357, 0.9937, 0.1630]])\n",
      "Sortie du CNN pour image origine =\n",
      "tensor([[[[2.5562, 3.9913, 5.3303, 5.4755, 3.6507],\n",
      "          [4.9061, 6.2397, 8.9525, 6.6849, 5.2262],\n",
      "          [3.1996, 4.4636, 6.4000, 7.3696, 5.6597],\n",
      "          [3.2421, 3.6722, 6.0831, 4.5726, 4.0504],\n",
      "          [1.1821, 2.0157, 3.4710, 3.8978, 2.9183]]]])\n",
      "sortie du CNN pour image tournée de 90° =\n",
      "tensor([[[[1.1821, 3.2421, 3.1996, 4.9061, 2.5562],\n",
      "          [2.0157, 3.6722, 4.4636, 6.2397, 3.9913],\n",
      "          [3.4710, 6.0831, 6.4000, 8.9525, 5.3303],\n",
      "          [3.8978, 4.5726, 7.3696, 6.6849, 5.4755],\n",
      "          [2.9183, 4.0504, 5.6597, 5.2262, 3.6507]]]])\n"
     ]
    }
   ],
   "source": [
    "print('image origine =')\n",
    "print(Input1)\n",
    "print('image tournée de 90°=')\n",
    "print(Input2)\n",
    "\n",
    "print('Sortie du CNN pour image origine =')\n",
    "print(output1)\n",
    "print('sortie du CNN pour image tournée de 90° =')\n",
    "print(output2)"
   ]
  },
  {
   "cell_type": "markdown",
   "metadata": {},
   "source": [
    "C'EST INVARIANT PAR ROTATION\n",
    "IL RESTE DEMAIN A FAIRE UNE PETITE ROTATION DANS LAUTRE SENS ET MONTRER QUE CEST LES MEMES !!!!!!!!!! MAIS CA SE VOIT BIEN "
   ]
  },
  {
   "cell_type": "code",
   "execution_count": 17,
   "metadata": {},
   "outputs": [
    {
     "name": "stdout",
     "output_type": "stream",
     "text": [
      "tensor([[[[ True,  True, False, False, False],\n",
      "          [ True,  True,  True, False, False],\n",
      "          [ True,  True, False, False,  True],\n",
      "          [ True,  True, False,  True,  True],\n",
      "          [False,  True,  True,  True,  True]]]])\n"
     ]
    }
   ],
   "source": [
    "#ON COMPARE LES DEUX IMAGES EN LES FAISANT TOURNER\n",
    "\n",
    "output1bis=output1.view(5,5)\n",
    "output1tourne=torch.rot90(output1bis,1,[1,0])\n",
    "outputcompare=output1tourne.view(1,1,5,5)\n",
    "print(outputcompare==output2)"
   ]
  },
  {
   "cell_type": "markdown",
   "metadata": {},
   "source": [
    "LA SORTIE NEST PAS LA MEME SORTIE QUE LAUTRE AVEC UNE ROTATION PRB AVEC LES KERNELS EN ENTREE PCQ ON PRENDS DES KERNELS 332 POUR QUE CA MARCHE MAIS JSP POURQUOI"
   ]
  },
  {
   "cell_type": "markdown",
   "metadata": {},
   "source": [
    "TEST CREATION KERNEL TAILLE 3*3*2"
   ]
  },
  {
   "cell_type": "code",
   "execution_count": null,
   "metadata": {},
   "outputs": [
    {
     "name": "stdout",
     "output_type": "stream",
     "text": [
      "[[0.65629061 0.03921562 0.32412561]\n",
      " [0.15907867 0.27573221 0.41600818]\n",
      " [0.73929109 0.37389222 0.61402763]]\n"
     ]
    }
   ],
   "source": [
    "K=np.random.rand(3,3)\n",
    "print(K)\n",
    "K1 =  torch.Tensor([K,K])\n",
    "#K=invar(K)"
   ]
  },
  {
   "cell_type": "code",
   "execution_count": null,
   "metadata": {},
   "outputs": [
    {
     "name": "stdout",
     "output_type": "stream",
     "text": [
      "tensor([[[[ 0.9197,  0.6246, -0.5283,  0.3123, -0.2951],\n",
      "          [-0.9506, -0.8133, -0.7338,  0.2097,  0.0402],\n",
      "          [-1.3254,  0.3065,  0.5334,  0.5418, -0.7939],\n",
      "          [-0.2235,  0.9542,  0.4922,  0.2611,  0.8706],\n",
      "          [ 0.1989, -0.4099,  0.9503, -0.2401, -0.2681]]]])\n",
      "tensor([[[[0., 0., 0.],\n",
      "          [0., 1., 0.],\n",
      "          [0., 0., 0.]]],\n",
      "\n",
      "\n",
      "        [[[0., 0., 0.],\n",
      "          [0., 1., 0.],\n",
      "          [0., 0., 0.]]]])\n"
     ]
    }
   ],
   "source": [
    "nb_channels = 1\n",
    "h, w = 5, 5\n",
    "x = torch.randn(1, nb_channels, h, w)\n",
    "print(x)\n",
    "weights = torch.tensor([[[0., 0., 0.],\n",
    "                         [0., 1., 0.],\n",
    "                         [0., 0., 0.]],\n",
    "                        [[0., 0., 0.],\n",
    "                         [0., 1., 0.],\n",
    "                         [0., 0., 0.]]])\n",
    "weights = weights.view(2, 1, 3, 3)\n",
    "print(weights)\n",
    "output = F.conv2d(x, weights)"
   ]
  }
 ],
 "metadata": {
  "interpreter": {
   "hash": "10504eabe9e4975a20aac45f38d97beb386351f1a85f88517fb3933ef56ec686"
  },
  "kernelspec": {
   "display_name": "Python 3.9.7 64-bit (windows store)",
   "name": "python3"
  },
  "language_info": {
   "codemirror_mode": {
    "name": "ipython",
    "version": 3
   },
   "file_extension": ".py",
   "mimetype": "text/x-python",
   "name": "python",
   "nbconvert_exporter": "python",
   "pygments_lexer": "ipython3",
   "version": "3.9.7"
  },
  "orig_nbformat": 4
 },
 "nbformat": 4,
 "nbformat_minor": 2
}
