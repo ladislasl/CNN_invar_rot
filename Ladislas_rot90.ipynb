{
 "cells": [
  {
   "cell_type": "markdown",
   "metadata": {},
   "source": [
    "QUESTIONS:\n",
    "si on transforme notre kernel de base en un kernel multi symétrique on change l'effet du kernel ?\n",
    "on devrait étudier le lien entre le kernel initial et celui transformé pour voir si ils ont les mêmes actions"
   ]
  },
  {
   "cell_type": "markdown",
   "metadata": {},
   "source": [
    "IMPORT DES FONCTIONS IMPORTANTES"
   ]
  },
  {
   "cell_type": "code",
   "execution_count": 69,
   "metadata": {},
   "outputs": [],
   "source": [
    "import torch\n",
    "import torch.nn.functional as F\n",
    "import torch.nn.utils.parametrize as parametrize\n",
    "import numpy as np"
   ]
  },
  {
   "cell_type": "markdown",
   "metadata": {},
   "source": [
    "TEST SUR LE ROT90"
   ]
  },
  {
   "cell_type": "code",
   "execution_count": 70,
   "metadata": {},
   "outputs": [
    {
     "name": "stdout",
     "output_type": "stream",
     "text": [
      "tensor([[[[0.9754, 0.2109],\n",
      "          [0.2631, 0.0666]]]])\n",
      "tensor([[0.9754, 0.2109],\n",
      "        [0.2631, 0.0666]])\n"
     ]
    }
   ],
   "source": [
    "#TEST SUR LE TORCH.RAND\n",
    "Input=torch.rand(2,2)\n",
    "Input3=Input.view(1,1,2,2)\n",
    "Input2=torch.rand(1,1,2,2)\n",
    "Input4=Input2.view(2,2)\n",
    "rot=torch.rot90(Input2,1,[1,0])\n",
    "print(Input2)\n",
    "print(Input4)"
   ]
  },
  {
   "cell_type": "code",
   "execution_count": 71,
   "metadata": {},
   "outputs": [
    {
     "name": "stdout",
     "output_type": "stream",
     "text": [
      "tensor([[0.5825, 0.9527, 0.3283, 0.1077, 0.8136],\n",
      "        [0.5145, 0.3963, 0.4640, 0.3469, 0.5858],\n",
      "        [0.6698, 0.5007, 0.9850, 0.7541, 0.0658],\n",
      "        [0.4420, 0.9661, 0.7239, 0.6487, 0.2302],\n",
      "        [0.9928, 0.1655, 0.0800, 0.9950, 0.5624]])\n",
      "tensor([[0.8136, 0.5858, 0.0658, 0.2302, 0.5624],\n",
      "        [0.1077, 0.3469, 0.7541, 0.6487, 0.9950],\n",
      "        [0.3283, 0.4640, 0.9850, 0.7239, 0.0800],\n",
      "        [0.9527, 0.3963, 0.5007, 0.9661, 0.1655],\n",
      "        [0.5825, 0.5145, 0.6698, 0.4420, 0.9928]])\n"
     ]
    }
   ],
   "source": [
    "Input = torch.rand(5,5)\n",
    "print(Input)\n",
    "a=torch.rot90(Input, 1, [0, 1])\n",
    "print(a)\n",
    "\n",
    "#a = torch.arange(8).view(2, 2, 2)\n",
    "#print(x)\n",
    "#a=torch.rot90(x, 1, [1, 2])\n",
    "#print(a)\n"
   ]
  },
  {
   "cell_type": "markdown",
   "metadata": {},
   "source": [
    "TRANSFORMER UNE MATRICE EN UNE MATRICE SYMETRIQUE DE TOUTES DIRECTIONS"
   ]
  },
  {
   "cell_type": "code",
   "execution_count": 72,
   "metadata": {},
   "outputs": [],
   "source": [
    "def invar(X):\n",
    "    a=torch.rot90(X, 1, [1,0])\n",
    "    b=torch.rot90(a, 1, [1,0])\n",
    "    c=torch.rot90(b, 1, [1,0])\n",
    "    d= X+a+b+c\n",
    "    return(d)\n",
    "\n",
    "\n",
    "\n",
    "#K =  torch.Tensor([[1 ,0, -10],[2, 0 ,-2], [1, 0 ,-1]])\n",
    "#K1=np.random.rand(3,3)\n",
    "#K3 =  torch.Tensor(K1)\n",
    "#K4=invar(K3)\n",
    "#print(K4)\n",
    "\n"
   ]
  },
  {
   "cell_type": "markdown",
   "metadata": {},
   "source": [
    "Compréhension des axes à rotater"
   ]
  },
  {
   "cell_type": "code",
   "execution_count": 73,
   "metadata": {},
   "outputs": [
    {
     "name": "stdout",
     "output_type": "stream",
     "text": [
      "tensor([[ 1.3088,  1.1696,  0.6814,  0.9831,  0.5939],\n",
      "        [ 0.7316, -0.7684,  0.8788,  0.2312, -0.5189],\n",
      "        [-1.3253,  1.2072,  0.1817, -0.0141,  0.6427],\n",
      "        [ 0.3280, -0.6847,  1.3069, -0.1267,  0.2586],\n",
      "        [ 0.1767, -1.9640,  1.6575,  0.1101, -1.4928]])\n",
      "tensor([[ 0.1767,  0.3280, -1.3253,  0.7316,  1.3088],\n",
      "        [-1.9640, -0.6847,  1.2072, -0.7684,  1.1696],\n",
      "        [ 1.6575,  1.3069,  0.1817,  0.8788,  0.6814],\n",
      "        [ 0.1101, -0.1267, -0.0141,  0.2312,  0.9831],\n",
      "        [-1.4928,  0.2586,  0.6427, -0.5189,  0.5939]])\n",
      "tensor([[False, False, False, False, False],\n",
      "        [False, False, False, False, False],\n",
      "        [False, False,  True, False, False],\n",
      "        [False, False, False, False, False],\n",
      "        [False, False, False, False, False]])\n"
     ]
    }
   ],
   "source": [
    "#K =  torch.Tensor([[100 ,0, 0, 0,0 ],[0, 100 ,0, 0,0], [0, 0 ,100,0,0],[0, 0 ,0,100,0],[0, 0 ,0,0,100]])\n",
    "#print(K)\n",
    "#a=torch.rot90(K, 1, [1,0])\n",
    "#print(a)\n",
    "Input = torch.randn(5,5)\n",
    "#print(Input)\n",
    "Input2=torch.rot90(Input, 1, [1,0])\n",
    "print(Input)\n",
    "print(Input2)\n",
    "print(Input==Input2)"
   ]
  },
  {
   "cell_type": "markdown",
   "metadata": {},
   "source": [
    "TEST CONV2D"
   ]
  },
  {
   "cell_type": "code",
   "execution_count": 74,
   "metadata": {},
   "outputs": [
    {
     "name": "stdout",
     "output_type": "stream",
     "text": [
      "tensor([[[  1.,   0.,  -1.],\n",
      "         [  2.,   0., -10.],\n",
      "         [  1.,   0.,  -1.]],\n",
      "\n",
      "        [[  1.,   0.,  -1.],\n",
      "         [  2.,   0., -10.],\n",
      "         [  1.,   0.,  -1.]]])\n",
      "tensor([[[[  1.,   0.,  -1.],\n",
      "          [  2.,   0., -10.],\n",
      "          [  1.,   0.,  -1.]]],\n",
      "\n",
      "\n",
      "        [[[  1.,   0.,  -1.],\n",
      "          [  2.,   0., -10.],\n",
      "          [  1.,   0.,  -1.]]]])\n"
     ]
    }
   ],
   "source": [
    "Input = torch.rand(1,1,5,5)\n",
    "#print(Input)\n",
    "K =  torch.Tensor([[[1 ,0, -1],[2, 0 ,-10], [1, 0 ,-1]],[[1 ,0, -1],[2, 0 ,-10], [1, 0 ,-1]]])\n",
    "#K=invar(K)\n",
    "#K=invar(K)\n",
    "print(K)\n",
    "Kernel = K.view(2, 1, 3, 3)\n",
    "print(Kernel)\n",
    "output = F.conv2d(Input, Kernel)\n",
    "#print(output)\n"
   ]
  },
  {
   "cell_type": "markdown",
   "metadata": {},
   "source": [
    "cnn UNE COUCHE AVEC UNE IMAGE EN ENTREE"
   ]
  },
  {
   "cell_type": "code",
   "execution_count": 75,
   "metadata": {},
   "outputs": [
    {
     "name": "stdout",
     "output_type": "stream",
     "text": [
      "tensor([[[[0.4758, 0.9870, 0.0251, 0.5356, 0.1434],\n",
      "          [0.7508, 0.5020, 0.4327, 0.1075, 0.6955],\n",
      "          [0.3193, 0.8840, 0.1034, 0.5053, 0.1011],\n",
      "          [0.1812, 0.1135, 0.9581, 0.1798, 0.0447],\n",
      "          [0.6730, 0.4051, 0.8607, 0.0169, 0.8984]]]])\n",
      "tensor([[[[0.6730, 0.1812, 0.3193, 0.7508, 0.4758],\n",
      "          [0.4051, 0.1135, 0.8840, 0.5020, 0.9870],\n",
      "          [0.8607, 0.9581, 0.1034, 0.4327, 0.0251],\n",
      "          [0.0169, 0.1798, 0.5053, 0.1075, 0.5356],\n",
      "          [0.8984, 0.0447, 0.1011, 0.6955, 0.1434]]]])\n",
      "tensor([[[[2.5276, 1.9136, 2.5276],\n",
      "          [1.9136, 3.3778, 1.9136],\n",
      "          [2.5276, 1.9136, 2.5276]]]])\n"
     ]
    }
   ],
   "source": [
    "#Initialisation des images d'entrée et des kernels\n",
    "\n",
    "#IMAGE DROITE\n",
    "Input=torch.rand(5,5)\n",
    "Input1 = Input.view(1,1,5,5)\n",
    "print(Input1)\n",
    "\n",
    "\n",
    "#IMAGE TOURNEE\n",
    "Input2=torch.rot90(Input, 1, [1,0])\n",
    "Input3=Input2.view(1,1,5,5)\n",
    "print(Input3)\n",
    "\n",
    "\n",
    "#KERNEL\n",
    "K=np.random.rand(3,3)\n",
    "K1 =  torch.Tensor(K)\n",
    "K2=invar(K1)\n",
    "Kernel=K2.view(1,1,3,3)\n",
    "print(Kernel)\n",
    "\n",
    "\n"
   ]
  },
  {
   "cell_type": "code",
   "execution_count": 76,
   "metadata": {},
   "outputs": [
    {
     "name": "stdout",
     "output_type": "stream",
     "text": [
      "tensor([[[[ 6.2017,  8.2447,  5.3671,  5.1891,  3.1120],\n",
      "          [ 9.7478,  9.8756, 10.2343,  5.4568,  5.6541],\n",
      "          [ 6.1095, 10.8441,  7.9513,  8.0344,  3.4512],\n",
      "          [ 5.9866,  9.9754, 10.2208,  8.4889,  3.7277],\n",
      "          [ 3.6821,  7.4000,  6.2894,  6.3021,  3.6070]]]])\n"
     ]
    }
   ],
   "source": [
    "#Input1 = torch.randn(1,1,5,5)\n",
    "#rint(Input1)\n",
    "#Input2=torch.rot90(Input1, 1, [1,0])\n",
    "#print(Input2)\n",
    "#print(Input2)  # création de 2 inputs avec une rotation de 90° entre eux\n",
    "\n",
    "#print(Input==Input2)\n",
    "#K=np.random.rand(3,3)\n",
    "#K1 =  torch.Tensor(K)\n",
    "#K2=invar(K1)\n",
    "#print(K2)\n",
    "\n",
    "#K3 = torch.cat((K2, K2), 0)\n",
    "\n",
    "#Kernel = K3.view(2, 1, 3, 3)\n",
    "#Kernel=K2.view(1,1,3,3)\n",
    "\n",
    "output1 = F.conv2d(Input1, Kernel,padding=(1, 1))\n",
    "#output2 = F.conv2d(Input2, Kernel,padding=(1, 1))\n",
    "print(output1)\n",
    "#print(output2)\n",
    "#print(output1==output2)\n",
    "\n",
    "#PROBLEME PAS CLAIR ICI, QUE JE LANCE OUTPUT 1 ET OUTPUT 2 SEPAREMENT ILS ONT DES VALEURS DIFFERENTES ET QUAND JE LES LANCE EN MEME TEMPS CA DONNE LA \n",
    "#MEME VALEUR HAHAHAH\n",
    "\n",
    "#EN FAIT IL MANQUE IL PAIRE DE CROCHET AU KERNEL POUR EN FAIRE UN WEIGHT\n"
   ]
  },
  {
   "cell_type": "markdown",
   "metadata": {},
   "source": [
    "MEME CNN UNE COUCHE AVEC EN ENTREE LA MEME IMAGE MAIS TOURNEE"
   ]
  },
  {
   "cell_type": "code",
   "execution_count": 77,
   "metadata": {},
   "outputs": [
    {
     "name": "stdout",
     "output_type": "stream",
     "text": [
      "tensor([[[[ 3.6821,  5.9866,  6.1095,  9.7478,  6.2017],\n",
      "          [ 7.4000,  9.9754, 10.8441,  9.8756,  8.2447],\n",
      "          [ 6.2894, 10.2208,  7.9513, 10.2343,  5.3671],\n",
      "          [ 6.3021,  8.4889,  8.0344,  5.4568,  5.1891],\n",
      "          [ 3.6070,  3.7277,  3.4512,  5.6541,  3.1120]]]])\n"
     ]
    }
   ],
   "source": [
    "#Input1 = torch.randn(5,5)\n",
    "#print(Input)\n",
    "#Input2=torch.rot90(Input1, 1, [1,0])\n",
    "#Input3=Input2.view(1,1,5,5)\n",
    "#print(Input1)\n",
    "#print(Input3)\n",
    "#CEST BON LIMAGE TOURRRNNNNNNNNNNNE AVEC VIEW MIS APRES\n",
    "#print(Input)\n",
    "#print(Input2)  # création de 2 inputs avec une rotation de 90° entre eux\n",
    "\n",
    "\n",
    "#K=np.random.rand(3,3)\n",
    "#K1 =  torch.Tensor(K)\n",
    "#K2=invar(K1)\n",
    "#print(K2)\n",
    "#LE KERNEL EST BIEN INVARIANT PAR ROTATION\n",
    "#K3 = torch.cat((K2, K2), 0)\n",
    "\n",
    "#Kernel = K3.view(2, 1, 3, 3)\n",
    "#Kernel = K2.view(1,1,3,3)\n",
    "#output1 = F.conv2d(Input1, Kernel,padding=(1, 1))\n",
    "output2 = F.conv2d(Input3, Kernel,padding=(1, 1))\n",
    "#print(output1)\n",
    "print(output2)\n",
    "#print(output1==output2)\n"
   ]
  },
  {
   "cell_type": "code",
   "execution_count": 78,
   "metadata": {},
   "outputs": [
    {
     "name": "stdout",
     "output_type": "stream",
     "text": [
      "image origine =\n",
      "tensor([[[[0.4758, 0.9870, 0.0251, 0.5356, 0.1434],\n",
      "          [0.7508, 0.5020, 0.4327, 0.1075, 0.6955],\n",
      "          [0.3193, 0.8840, 0.1034, 0.5053, 0.1011],\n",
      "          [0.1812, 0.1135, 0.9581, 0.1798, 0.0447],\n",
      "          [0.6730, 0.4051, 0.8607, 0.0169, 0.8984]]]])\n",
      "image tournée de 90°=\n",
      "tensor([[0.6730, 0.1812, 0.3193, 0.7508, 0.4758],\n",
      "        [0.4051, 0.1135, 0.8840, 0.5020, 0.9870],\n",
      "        [0.8607, 0.9581, 0.1034, 0.4327, 0.0251],\n",
      "        [0.0169, 0.1798, 0.5053, 0.1075, 0.5356],\n",
      "        [0.8984, 0.0447, 0.1011, 0.6955, 0.1434]])\n",
      "Sortie du CNN pour image origine =\n",
      "tensor([[[[ 6.2017,  8.2447,  5.3671,  5.1891,  3.1120],\n",
      "          [ 9.7478,  9.8756, 10.2343,  5.4568,  5.6541],\n",
      "          [ 6.1095, 10.8441,  7.9513,  8.0344,  3.4512],\n",
      "          [ 5.9866,  9.9754, 10.2208,  8.4889,  3.7277],\n",
      "          [ 3.6821,  7.4000,  6.2894,  6.3021,  3.6070]]]])\n",
      "sortie du CNN pour image tournée de 90° =\n",
      "tensor([[[[ 3.6821,  5.9866,  6.1095,  9.7478,  6.2017],\n",
      "          [ 7.4000,  9.9754, 10.8441,  9.8756,  8.2447],\n",
      "          [ 6.2894, 10.2208,  7.9513, 10.2343,  5.3671],\n",
      "          [ 6.3021,  8.4889,  8.0344,  5.4568,  5.1891],\n",
      "          [ 3.6070,  3.7277,  3.4512,  5.6541,  3.1120]]]])\n"
     ]
    }
   ],
   "source": [
    "# AFFICHAGE DES IMAGES D'ORIGINE ET DES SORTIE DU CNN\n",
    "\n",
    "print('image origine =')\n",
    "print(Input1)\n",
    "print('image tournée de 90°=')\n",
    "print(Input2)\n",
    "\n",
    "print('Sortie du CNN pour image origine =')\n",
    "print(output1)\n",
    "print('sortie du CNN pour image tournée de 90° =')\n",
    "print(output2)"
   ]
  },
  {
   "cell_type": "markdown",
   "metadata": {},
   "source": [
    "C'EST INVARIANT PAR ROTATION\n",
    "IL RESTE DEMAIN A FAIRE UNE PETITE ROTATION DANS LAUTRE SENS ET MONTRER QUE CEST LES MEMES !!!!!!!!!! MAIS CA SE VOIT BIEN "
   ]
  },
  {
   "cell_type": "code",
   "execution_count": 79,
   "metadata": {},
   "outputs": [
    {
     "name": "stdout",
     "output_type": "stream",
     "text": [
      "[[ True  True  True  True  True]\n",
      " [ True  True  True  True  True]\n",
      " [ True  True  True  True  True]\n",
      " [ True  True  True  True  True]\n",
      " [ True  True  True  True  True]]\n"
     ]
    }
   ],
   "source": [
    "#ON COMPARE LES DEUX IMAGES EN LES FAISANT TOURNER\n",
    "\n",
    "output1bis=output1.view(5,5) #j'enlève une paire de crochet pour retransformé en tensor puis en envoi dans la fonction qui fait tourner\n",
    "output1tourne=torch.rot90(output1bis,1,[1,0]) # on fait tourner la sortie\n",
    "outputcompare=output1tourne.view(1,1,5,5) # \n",
    "#print(output2)\n",
    "#print(outputcompare)\n",
    "output2np= output2.numpy()[0][0] # passage de torch à un numpy array et on enlève les crochet avec [0][0]\n",
    "outputcomparenp= outputcompare.numpy()[0][0] \n",
    "output2npround=np.round(output2np,2) # arrondi à deux chiffres après la virgule car sinon le test d'égalité bug un peu \n",
    "outputcomparenpround=np.round(outputcomparenp,2)\n",
    "\n",
    "#print(output2npround)\n",
    "#print(outputcomparenpround)\n",
    "\n",
    "print(output2npround==outputcomparenpround) # test d'égalité final\n",
    "\n",
    "\n"
   ]
  },
  {
   "cell_type": "markdown",
   "metadata": {},
   "source": [
    "TEST CREATION KERNEL TAILLE 3*3*2"
   ]
  }
 ],
 "metadata": {
  "interpreter": {
   "hash": "10504eabe9e4975a20aac45f38d97beb386351f1a85f88517fb3933ef56ec686"
  },
  "kernelspec": {
   "display_name": "Python 3.9.7 64-bit (windows store)",
   "name": "python3"
  },
  "language_info": {
   "codemirror_mode": {
    "name": "ipython",
    "version": 3
   },
   "file_extension": ".py",
   "mimetype": "text/x-python",
   "name": "python",
   "nbconvert_exporter": "python",
   "pygments_lexer": "ipython3",
   "version": "3.9.7"
  },
  "orig_nbformat": 4
 },
 "nbformat": 4,
 "nbformat_minor": 2
}
