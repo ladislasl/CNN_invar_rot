{
 "cells": [
  {
   "cell_type": "markdown",
   "metadata": {},
   "source": [
    "QUESTIONS:\n",
    "si on transforme notre kernel de base en un kernel multi symétrique on change l'effet du kernel ?\n",
    "on devrait étudier le lien entre le kernel initial et celui transformé pour voir si ils ont les mêmes actions"
   ]
  },
  {
   "cell_type": "markdown",
   "metadata": {},
   "source": [
    "IMPORT DES FONCTIONS IMPORTANTES"
   ]
  },
  {
   "cell_type": "code",
   "execution_count": 150,
   "metadata": {},
   "outputs": [],
   "source": [
    "import torch\n",
    "import torch.nn.functional as F\n",
    "import torch.nn.utils.parametrize as parametrize\n",
    "import numpy as np"
   ]
  },
  {
   "cell_type": "markdown",
   "metadata": {},
   "source": [
    "TEST SUR LE ROT90"
   ]
  },
  {
   "cell_type": "code",
   "execution_count": 196,
   "metadata": {},
   "outputs": [
    {
     "name": "stdout",
     "output_type": "stream",
     "text": [
      "tensor([[0.0085, 0.2894, 0.9292, 0.9241, 0.5100],\n",
      "        [0.2858, 0.9247, 0.4278, 0.7100, 0.4945],\n",
      "        [0.5073, 0.2231, 0.4989, 0.9818, 0.1270],\n",
      "        [0.5282, 0.1926, 0.1051, 0.6493, 0.9612],\n",
      "        [0.2835, 0.7807, 0.6888, 0.8328, 0.5585]])\n",
      "tensor([[0.5100, 0.4945, 0.1270, 0.9612, 0.5585],\n",
      "        [0.9241, 0.7100, 0.9818, 0.6493, 0.8328],\n",
      "        [0.9292, 0.4278, 0.4989, 0.1051, 0.6888],\n",
      "        [0.2894, 0.9247, 0.2231, 0.1926, 0.7807],\n",
      "        [0.0085, 0.2858, 0.5073, 0.5282, 0.2835]])\n"
     ]
    }
   ],
   "source": [
    "Input = torch.rand(5,5)\n",
    "print(Input)\n",
    "a=torch.rot90(Input, 1, [0, 1])\n",
    "print(a)\n",
    "\n",
    "\n",
    "#a = torch.arange(8).view(2, 2, 2)\n",
    "#print(x)\n",
    "#a=torch.rot90(x, 1, [1, 2])\n",
    "#print(a)\n"
   ]
  },
  {
   "cell_type": "markdown",
   "metadata": {},
   "source": [
    "TRANSFORMER UNE MATRICE EN UNE MATRICE SYMETRIQUE DE TOUTES DIRECTIONS"
   ]
  },
  {
   "cell_type": "code",
   "execution_count": 174,
   "metadata": {},
   "outputs": [
    {
     "name": "stdout",
     "output_type": "stream",
     "text": [
      "tensor([[2.1882, 2.8908, 2.1882],\n",
      "        [2.8908, 3.6414, 2.8908],\n",
      "        [2.1882, 2.8908, 2.1882]])\n"
     ]
    }
   ],
   "source": [
    "def invar(X):\n",
    "    a=torch.rot90(X, 1, [1,0])\n",
    "    b=torch.rot90(a, 1, [1,0])\n",
    "    c=torch.rot90(b, 1, [1,0])\n",
    "    d= X+a+b+c\n",
    "    return(d)\n",
    "K =  torch.Tensor([[1 ,0, -10],[2, 0 ,-2], [1, 0 ,-1]])\n",
    "\n",
    "K1=np.random.rand(3,3)\n",
    "K3 =  torch.Tensor(K1)\n",
    "K4=invar(K3)\n",
    "print(K4)\n",
    "\n"
   ]
  },
  {
   "cell_type": "markdown",
   "metadata": {},
   "source": [
    "Compréhension des axes à rotater"
   ]
  },
  {
   "cell_type": "code",
   "execution_count": 95,
   "metadata": {},
   "outputs": [
    {
     "name": "stdout",
     "output_type": "stream",
     "text": [
      "tensor([[ 2.2037e+00, -6.2239e-02, -1.4695e+00,  9.8689e-02, -1.0891e+00],\n",
      "        [-2.5783e-01, -2.2005e-03,  1.6597e+00,  7.6363e-01,  3.1358e-01],\n",
      "        [ 8.8062e-01,  6.8853e-02, -2.0420e-01, -6.7099e-01, -1.2425e+00],\n",
      "        [ 9.3897e-01, -1.9173e-01, -1.3197e+00, -1.6838e-01, -1.0084e+00],\n",
      "        [ 3.7878e-01, -6.2646e-01, -3.0756e-01,  1.0493e+00, -3.6613e-01]])\n",
      "tensor([[ 3.7878e-01,  9.3897e-01,  8.8062e-01, -2.5783e-01,  2.2037e+00],\n",
      "        [-6.2646e-01, -1.9173e-01,  6.8853e-02, -2.2005e-03, -6.2239e-02],\n",
      "        [-3.0756e-01, -1.3197e+00, -2.0420e-01,  1.6597e+00, -1.4695e+00],\n",
      "        [ 1.0493e+00, -1.6838e-01, -6.7099e-01,  7.6363e-01,  9.8689e-02],\n",
      "        [-3.6613e-01, -1.0084e+00, -1.2425e+00,  3.1358e-01, -1.0891e+00]])\n",
      "tensor([[False, False, False, False, False],\n",
      "        [False, False, False, False, False],\n",
      "        [False, False,  True, False, False],\n",
      "        [False, False, False, False, False],\n",
      "        [False, False, False, False, False]])\n"
     ]
    }
   ],
   "source": [
    "#K =  torch.Tensor([[100 ,0, 0, 0,0 ],[0, 100 ,0, 0,0], [0, 0 ,100,0,0],[0, 0 ,0,100,0],[0, 0 ,0,0,100]])\n",
    "#print(K)\n",
    "#a=torch.rot90(K, 1, [1,0])\n",
    "#print(a)\n",
    "Input = torch.randn(5,5)\n",
    "#print(Input)\n",
    "Input2=torch.rot90(Input, 1, [1,0])\n",
    "print(Input)\n",
    "print(Input2)\n",
    "print(Input==Input2)"
   ]
  },
  {
   "cell_type": "markdown",
   "metadata": {},
   "source": [
    "TEST CONV2D"
   ]
  },
  {
   "cell_type": "code",
   "execution_count": 148,
   "metadata": {},
   "outputs": [
    {
     "name": "stdout",
     "output_type": "stream",
     "text": [
      "tensor([[[  1.,   0.,  -1.],\n",
      "         [  2.,   0., -10.],\n",
      "         [  1.,   0.,  -1.]],\n",
      "\n",
      "        [[  1.,   0.,  -1.],\n",
      "         [  2.,   0., -10.],\n",
      "         [  1.,   0.,  -1.]]])\n",
      "tensor([[[[  1.,   0.,  -1.],\n",
      "          [  2.,   0., -10.],\n",
      "          [  1.,   0.,  -1.]]],\n",
      "\n",
      "\n",
      "        [[[  1.,   0.,  -1.],\n",
      "          [  2.,   0., -10.],\n",
      "          [  1.,   0.,  -1.]]]])\n"
     ]
    }
   ],
   "source": [
    "Input = torch.rand(1,1,5,5)\n",
    "#print(Input)\n",
    "K =  torch.Tensor([[[1 ,0, -1],[2, 0 ,-10], [1, 0 ,-1]],[[1 ,0, -1],[2, 0 ,-10], [1, 0 ,-1]]])\n",
    "#K=invar(K)\n",
    "#K=invar(K)\n",
    "print(K)\n",
    "#Kernel = K.view(2, 1, 3, 3)\n",
    "print(Kernel)\n",
    "output = F.conv2d(Input, Kernel)\n",
    "#print(output)\n"
   ]
  },
  {
   "cell_type": "markdown",
   "metadata": {},
   "source": [
    "cnn UNE COUCHE AVEC UNE IMAGE EN ENTREE"
   ]
  },
  {
   "cell_type": "code",
   "execution_count": 209,
   "metadata": {},
   "outputs": [
    {
     "name": "stdout",
     "output_type": "stream",
     "text": [
      "tensor([[[[-0.3306, -0.3657,  1.0506,  0.1914,  1.3812],\n",
      "          [-1.8576, -1.0224,  2.4073,  0.3515, -0.1223],\n",
      "          [ 0.4758,  0.1745,  0.6395, -1.1648, -0.2823],\n",
      "          [-0.1166,  0.5802,  2.7676, -1.3387,  2.3266],\n",
      "          [-1.7379,  1.0903, -0.1181, -1.6033, -0.6716]]]])\n",
      "tensor([[[[-0.3306, -0.3657,  1.0506,  0.1914,  1.3812],\n",
      "          [-1.8576, -1.0224,  2.4073,  0.3515, -0.1223],\n",
      "          [ 0.4758,  0.1745,  0.6395, -1.1648, -0.2823],\n",
      "          [-0.1166,  0.5802,  2.7676, -1.3387,  2.3266],\n",
      "          [-1.7379,  1.0903, -0.1181, -1.6033, -0.6716]]]])\n",
      "tensor([[[[False, False, False, False, False],\n",
      "          [False, False, False, False, False],\n",
      "          [False, False, False, False, False],\n",
      "          [False, False, False, False, False],\n",
      "          [False, False, False, False, False]]]])\n",
      "tensor([[1.5087, 1.2335, 1.5087],\n",
      "        [1.2335, 0.6850, 1.2335],\n",
      "        [1.5087, 1.2335, 1.5087]])\n",
      "tensor([[[[-4.5115,  0.2058,  2.4618,  7.0117,  1.5616],\n",
      "          [-2.6430,  2.5108,  1.1490,  6.0663,  0.2366],\n",
      "          [-2.5612,  5.7788,  3.4432,  9.5580, -0.4006],\n",
      "          [ 0.9871,  4.1100, -0.6648,  1.2996, -5.4106],\n",
      "          [ 0.8860,  3.1726,  1.5558,  3.9619, -1.5875]],\n",
      "\n",
      "         [[-4.5115,  0.2058,  2.4618,  7.0117,  1.5616],\n",
      "          [-2.6430,  2.5108,  1.1490,  6.0663,  0.2366],\n",
      "          [-2.5612,  5.7788,  3.4432,  9.5580, -0.4006],\n",
      "          [ 0.9871,  4.1100, -0.6648,  1.2996, -5.4106],\n",
      "          [ 0.8860,  3.1726,  1.5558,  3.9619, -1.5875]]]])\n"
     ]
    }
   ],
   "source": [
    "Input1 = torch.randn(1,1,5,5)\n",
    "print(Input1)\n",
    "Input2=torch.rot90(Input1, 1, [1,0])\n",
    "print(Input2)\n",
    "#print(Input2)  # création de 2 inputs avec une rotation de 90° entre eux\n",
    "\n",
    "print(Input==Input2)\n",
    "K=np.random.rand(3,3)\n",
    "K1 =  torch.Tensor(K)\n",
    "K2=invar(K1)\n",
    "print(K2)\n",
    "\n",
    "K3 = torch.cat((K2, K2), 0)\n",
    "\n",
    "Kernel = K3.view(2, 1, 3, 3)\n",
    "\n",
    "\n",
    "output1 = F.conv2d(Input1, Kernel,padding=(1, 1))\n",
    "#output2 = F.conv2d(Input2, Kernel,padding=(1, 1))\n",
    "print(output1)\n",
    "#print(output2)\n",
    "#print(output1==output2)\n",
    "\n",
    "#PROBLEME PAS CLAIR ICI, QUE JE LANCE OUTPUT 1 ET OUTPUT 2 SEPAREMENT ILS ONT DES VALEURS DIFFERENTES ET QUAND JE LES LANCE EN MEME TEMPS CA DONNE LA \n",
    "#MEME VALEUR HAHAHAH\n",
    "\n",
    "#EN FAIT IL MANQUE IL PAIRE DE CROCHET AU KERNEL POUR EN FAIRE UN WEIGHT\n"
   ]
  },
  {
   "cell_type": "markdown",
   "metadata": {},
   "source": [
    "MEME CNN UNE COUCHE AVEC EN ENTREE LA MEME IMAGE MAIS TOURNEE"
   ]
  },
  {
   "cell_type": "code",
   "execution_count": 192,
   "metadata": {},
   "outputs": [
    {
     "name": "stdout",
     "output_type": "stream",
     "text": [
      "tensor([[[[False, False, False, False, False],\n",
      "          [False, False, False, False, False],\n",
      "          [False, False, False, False, False],\n",
      "          [False, False, False, False, False],\n",
      "          [False, False, False, False, False]]]])\n",
      "tensor([[2.1081, 2.8035, 2.1081],\n",
      "        [2.8035, 2.7968, 2.8035],\n",
      "        [2.1081, 2.8035, 2.1081]])\n",
      "tensor([[[[ 0.7570, -2.8612,  2.1183,  3.3515,  6.4372],\n",
      "          [ 5.6245, -1.4128, -2.2566,  1.5880,  7.1522],\n",
      "          [ 6.7333,  2.8352, -2.0050,  5.6551,  7.6406],\n",
      "          [ 8.0148,  1.5466, -8.5384, -5.7123, -0.3565],\n",
      "          [ 2.1064, -5.5245, -4.8995, -7.0815, -0.7607]],\n",
      "\n",
      "         [[ 0.7570, -2.8612,  2.1183,  3.3515,  6.4372],\n",
      "          [ 5.6245, -1.4128, -2.2566,  1.5880,  7.1522],\n",
      "          [ 6.7333,  2.8352, -2.0050,  5.6551,  7.6406],\n",
      "          [ 8.0148,  1.5466, -8.5384, -5.7123, -0.3565],\n",
      "          [ 2.1064, -5.5245, -4.8995, -7.0815, -0.7607]]]])\n"
     ]
    }
   ],
   "source": [
    "#Input1 = torch.randn(1,1,5,5)\n",
    "#print(Input)\n",
    "Input2=torch.rot90(Input1, 1, [1,0])\n",
    "#print(Input)\n",
    "#print(Input2)  # création de 2 inputs avec une rotation de 90° entre eux\n",
    "\n",
    "print(Input==Input2)\n",
    "K=np.random.rand(3,3)\n",
    "K1 =  torch.Tensor(K)\n",
    "K2=invar(K1)\n",
    "print(K2)\n",
    "\n",
    "K3 = torch.cat((K2, K2), 0)\n",
    "\n",
    "Kernel = K3.view(2, 1, 3, 3)\n",
    "\n",
    "#output1 = F.conv2d(Input1, Kernel,padding=(1, 1))\n",
    "output2 = F.conv2d(Input2, Kernel,padding=(1, 1))\n",
    "#print(output1)\n",
    "print(output2)\n",
    "#print(output1==output2)"
   ]
  },
  {
   "cell_type": "markdown",
   "metadata": {},
   "source": [
    "LA SORTIE NEST PAS LA MEME SORTIE QUE LAUTRE AVEC UNE ROTATION PRB AVEC LES KERNELS EN ENTREE PCQ ON PRENDS DES KERNELS 332 POUR QUE CA MARCHE MAIS JSP POURQUOI"
   ]
  },
  {
   "cell_type": "markdown",
   "metadata": {},
   "source": [
    "TEST CREATION KERNEL TAILLE 3*3*2"
   ]
  },
  {
   "cell_type": "code",
   "execution_count": 153,
   "metadata": {},
   "outputs": [
    {
     "name": "stdout",
     "output_type": "stream",
     "text": [
      "[[0.44963187 0.14531515 0.77562163]\n",
      " [0.1096695  0.03654071 0.92070671]\n",
      " [0.86433302 0.39023179 0.14198664]]\n"
     ]
    }
   ],
   "source": [
    "K=np.random.rand(3,3)\n",
    "print(K)\n",
    "K1 =  torch.Tensor([K,K])\n",
    "#K=invar(K)\n"
   ]
  },
  {
   "cell_type": "code",
   "execution_count": null,
   "metadata": {},
   "outputs": [],
   "source": []
  },
  {
   "cell_type": "code",
   "execution_count": null,
   "metadata": {},
   "outputs": [],
   "source": []
  },
  {
   "cell_type": "code",
   "execution_count": 156,
   "metadata": {},
   "outputs": [
    {
     "name": "stdout",
     "output_type": "stream",
     "text": [
      "tensor([[[[ 1.2492,  2.8971, -0.2221, -0.1074, -0.5605],\n",
      "          [ 0.5684,  0.7354, -0.8335,  0.1157, -1.8499],\n",
      "          [-2.0530,  1.8674,  0.5720, -0.8691,  0.6071],\n",
      "          [-0.4218, -0.6412,  1.6308,  0.3638, -0.0115],\n",
      "          [ 0.7344, -0.1123, -0.0140,  0.8240,  1.7946]]]])\n",
      "tensor([[[[0., 0., 0.],\n",
      "          [0., 1., 0.],\n",
      "          [0., 0., 0.]]],\n",
      "\n",
      "\n",
      "        [[[0., 0., 0.],\n",
      "          [0., 1., 0.],\n",
      "          [0., 0., 0.]]]])\n"
     ]
    }
   ],
   "source": [
    "nb_channels = 1\n",
    "h, w = 5, 5\n",
    "x = torch.randn(1, nb_channels, h, w)\n",
    "print(x)\n",
    "weights = torch.tensor([[[0., 0., 0.],\n",
    "                         [0., 1., 0.],\n",
    "                         [0., 0., 0.]],\n",
    "                        [[0., 0., 0.],\n",
    "                         [0., 1., 0.],\n",
    "                         [0., 0., 0.]]])\n",
    "weights = weights.view(2, 1, 3, 3)\n",
    "print(weights)\n",
    "output = F.conv2d(x, weights)"
   ]
  },
  {
   "cell_type": "markdown",
   "metadata": {},
   "source": [
    "NN ENTIER DANS UNE CLASSE AVEC UNE COUCHE CONV ET UNE COUCHE FULLY CONNECTED"
   ]
  },
  {
   "cell_type": "code",
   "execution_count": null,
   "metadata": {},
   "outputs": [],
   "source": [
    "class Network(nn.Module):\n",
    "    def __init__(self):\n",
    "        super(Network,self).__init__()\n",
    "        self.conv1=NN.Conv2d(in_channels=1,out_channels=6, kernel_size=5)\n",
    "        self.fc1=nn.Linear(in_features=12*4*4, out_features=128) # un couche fully connected pour faire de la classification, pour l'instant pas besoin, on travaille juste sur les kernels\n",
    "    def forward(self,t):\n",
    "        return t\n"
   ]
  },
  {
   "cell_type": "code",
   "execution_count": null,
   "metadata": {},
   "outputs": [],
   "source": [
    "network= Network()"
   ]
  }
 ],
 "metadata": {
  "interpreter": {
   "hash": "10504eabe9e4975a20aac45f38d97beb386351f1a85f88517fb3933ef56ec686"
  },
  "kernelspec": {
   "display_name": "Python 3.9.7 64-bit (windows store)",
   "name": "python3"
  },
  "language_info": {
   "codemirror_mode": {
    "name": "ipython",
    "version": 3
   },
   "file_extension": ".py",
   "mimetype": "text/x-python",
   "name": "python",
   "nbconvert_exporter": "python",
   "pygments_lexer": "ipython3",
   "version": "3.9.7"
  },
  "orig_nbformat": 4
 },
 "nbformat": 4,
 "nbformat_minor": 2
}
