{
 "cells": [
  {
   "cell_type": "markdown",
   "metadata": {},
   "source": [
    "excellent\n"
   ]
  },
  {
   "cell_type": "markdown",
   "metadata": {},
   "source": [
    "IMPORT DES FONCTIONS IMPORTANTES"
   ]
  },
  {
   "cell_type": "code",
   "execution_count": 20,
   "metadata": {},
   "outputs": [],
   "source": [
    "import torch\n",
    "import torch.nn.functional as F\n",
    "import torch.nn.utils.parametrize as parametrize"
   ]
  },
  {
   "cell_type": "markdown",
   "metadata": {},
   "source": [
    "TEST SUR LE ROT90"
   ]
  },
  {
   "cell_type": "code",
   "execution_count": 42,
   "metadata": {},
   "outputs": [
    {
     "name": "stdout",
     "output_type": "stream",
     "text": [
      "tensor([[[[0.0405, 0.7857, 0.9461, 0.5791, 0.0337],\n",
      "          [0.9431, 0.0749, 0.7477, 0.9794, 0.5436],\n",
      "          [0.7670, 0.6457, 0.4116, 0.8537, 0.8184],\n",
      "          [0.9779, 0.4518, 0.6958, 0.2105, 0.1977],\n",
      "          [0.2524, 0.3839, 0.8664, 0.9085, 0.9512]]]])\n",
      "tensor([[[[0.0405, 0.7857, 0.9461, 0.5791, 0.0337],\n",
      "          [0.9431, 0.0749, 0.7477, 0.9794, 0.5436],\n",
      "          [0.7670, 0.6457, 0.4116, 0.8537, 0.8184],\n",
      "          [0.9779, 0.4518, 0.6958, 0.2105, 0.1977],\n",
      "          [0.2524, 0.3839, 0.8664, 0.9085, 0.9512]]]])\n"
     ]
    }
   ],
   "source": [
    "Input = torch.rand(1,1,5,5)\n",
    "print(Input)\n",
    "a=torch.rot90(Input, 1, [1, 0])\n",
    "print(a)\n",
    "\n",
    "\n",
    "#a = torch.arange(8).view(2, 2, 2)\n",
    "#print(x)\n",
    "#a=torch.rot90(x, 1, [1, 2])\n",
    "#print(a)\n"
   ]
  },
  {
   "cell_type": "markdown",
   "metadata": {},
   "source": [
    "TRANSFORMER UNE MATRICE EN UNE MATRICE SYMETRIQUE DE TOUTES DIRECTIONS"
   ]
  },
  {
   "cell_type": "code",
   "execution_count": 44,
   "metadata": {},
   "outputs": [
    {
     "name": "stdout",
     "output_type": "stream",
     "text": [
      "tensor([[-9.,  0., -9.],\n",
      "        [ 0.,  0.,  0.],\n",
      "        [-9.,  0., -9.]])\n"
     ]
    }
   ],
   "source": [
    "def invar(X):\n",
    "    a=torch.rot90(X, 1, [0,1])\n",
    "    b=torch.rot90(a, 1, [0,1])\n",
    "    c=torch.rot90(b, 1, [0,1])\n",
    "    d= X+a+b+c\n",
    "    return(d)\n",
    "K =  torch.Tensor([[1 ,0, -10],[2, 0 ,-2], [1, 0 ,-1]])\n",
    "print(invar(K))\n",
    "\n",
    "    \n",
    "\n"
   ]
  },
  {
   "cell_type": "markdown",
   "metadata": {},
   "source": [
    "TEST CONV2D"
   ]
  },
  {
   "cell_type": "code",
   "execution_count": 19,
   "metadata": {},
   "outputs": [
    {
     "name": "stdout",
     "output_type": "stream",
     "text": [
      "tensor([[[[0.0961, 0.0726, 0.5731, 0.1828, 0.7097, 0.6952, 0.9535, 0.8780,\n",
      "           0.3641],\n",
      "          [0.4038, 0.4974, 0.4809, 0.0519, 0.5104, 0.7189, 0.4521, 0.7233,\n",
      "           0.7596],\n",
      "          [0.7744, 0.4119, 0.0273, 0.2817, 0.8605, 0.0663, 0.4444, 0.0473,\n",
      "           0.9345],\n",
      "          [0.5829, 0.7222, 0.7312, 0.2815, 0.0667, 0.9448, 0.9163, 0.4362,\n",
      "           0.2136],\n",
      "          [0.7029, 0.4735, 0.4043, 0.1886, 0.0933, 0.9224, 0.1128, 0.4075,\n",
      "           0.0108],\n",
      "          [0.4593, 0.0191, 0.7739, 0.2862, 0.0405, 0.2450, 0.5683, 0.2545,\n",
      "           0.5674],\n",
      "          [0.1363, 0.1444, 0.5725, 0.0680, 0.8148, 0.3932, 0.2474, 0.8904,\n",
      "           0.7970],\n",
      "          [0.7082, 0.5084, 0.4547, 0.4107, 0.2951, 0.0447, 0.1840, 0.6719,\n",
      "           0.1362],\n",
      "          [0.4016, 0.9483, 0.4913, 0.3217, 0.1108, 0.1317, 0.4269, 0.4023,\n",
      "           0.1529],\n",
      "          [0.5815, 0.8767, 0.7627, 0.0869, 0.2983, 0.6472, 0.4244, 0.8774,\n",
      "           0.0776]]]])\n",
      "tensor([[[ 1.,  0., -1.],\n",
      "         [ 2.,  0., -2.],\n",
      "         [ 1.,  0., -1.]],\n",
      "\n",
      "        [[ 1.,  0., -1.],\n",
      "         [ 2.,  0., -2.],\n",
      "         [ 1.,  0., -1.]]])\n",
      "tensor([[[[ 1.1586e-01,  9.1092e-01, -1.0287e+00, -1.6309e+00,  2.8866e-01,\n",
      "           -1.7261e-01, -5.1565e-01],\n",
      "          [ 1.2688e+00,  1.1465e+00, -1.0313e+00, -8.9936e-01,  4.0725e-02,\n",
      "            5.4215e-01, -5.8491e-01],\n",
      "          [ 7.4911e-01,  1.2964e+00,  8.0682e-01, -1.8449e+00, -1.3026e+00,\n",
      "            1.5511e+00,  1.0173e+00],\n",
      "          [ 1.3429e-01,  7.4330e-01,  2.0198e+00, -2.0896e+00, -1.4163e+00,\n",
      "            1.5289e+00,  9.0759e-01],\n",
      "          [-7.6677e-01, -1.7304e-01,  1.5354e+00, -9.7654e-01, -5.0759e-01,\n",
      "           -1.1627e-03, -4.4570e-01],\n",
      "          [-9.3351e-01, -1.6559e-02,  4.0846e-01, -2.4323e-01,  7.1817e-01,\n",
      "           -1.6309e+00, -1.0505e+00],\n",
      "          [-1.8941e-02,  8.9857e-01,  4.5755e-01,  5.9678e-01,  4.7357e-01,\n",
      "           -2.0222e+00, -1.8014e-01],\n",
      "          [-1.0703e-01,  2.1408e+00,  1.3850e+00,  1.8572e-01, -6.4703e-01,\n",
      "           -1.3987e+00,  9.4242e-01]],\n",
      "\n",
      "         [[ 1.1586e-01,  9.1092e-01, -1.0287e+00, -1.6309e+00,  2.8866e-01,\n",
      "           -1.7261e-01, -5.1565e-01],\n",
      "          [ 1.2688e+00,  1.1465e+00, -1.0313e+00, -8.9936e-01,  4.0725e-02,\n",
      "            5.4215e-01, -5.8491e-01],\n",
      "          [ 7.4911e-01,  1.2964e+00,  8.0682e-01, -1.8449e+00, -1.3026e+00,\n",
      "            1.5511e+00,  1.0173e+00],\n",
      "          [ 1.3429e-01,  7.4330e-01,  2.0198e+00, -2.0896e+00, -1.4163e+00,\n",
      "            1.5289e+00,  9.0759e-01],\n",
      "          [-7.6677e-01, -1.7304e-01,  1.5354e+00, -9.7654e-01, -5.0759e-01,\n",
      "           -1.1627e-03, -4.4570e-01],\n",
      "          [-9.3351e-01, -1.6559e-02,  4.0846e-01, -2.4323e-01,  7.1817e-01,\n",
      "           -1.6309e+00, -1.0505e+00],\n",
      "          [-1.8941e-02,  8.9857e-01,  4.5755e-01,  5.9678e-01,  4.7357e-01,\n",
      "           -2.0222e+00, -1.8014e-01],\n",
      "          [-1.0703e-01,  2.1408e+00,  1.3850e+00,  1.8572e-01, -6.4703e-01,\n",
      "           -1.3987e+00,  9.4242e-01]]]])\n"
     ]
    }
   ],
   "source": [
    "Input = torch.rand(1,1,5,5)\n",
    "print(Input)\n",
    "K =  torch.Tensor([[[1 ,0, -1],[2, 0 ,-2], [1, 0 ,-1]],[[1 ,0, -1],[2, 0 ,-2], [1, 0 ,-1]]])\n",
    "\n",
    "print(K)\n",
    "Kernel = K.view(2, 1, 3, 3)\n",
    "output = F.conv2d(Input, Kernel)\n",
    "print(output)\n"
   ]
  },
  {
   "cell_type": "code",
   "execution_count": 10,
   "metadata": {},
   "outputs": [],
   "source": [
    "nb_channels = 1\n",
    "h, w = 5, 5\n",
    "x = torch.randn(1, nb_channels, h, w)\n",
    "weights = torch.tensor([[[0., 0., 0.],\n",
    "                         [0., 1., 0.],\n",
    "                         [0., 0., 0.]],\n",
    "                        [[0., 0., 0.],\n",
    "                         [0., 1., 0.],\n",
    "                         [0., 0., 0.]]])\n",
    "weights = weights.view(2, 1, 3, 3)\n",
    "\n",
    "output = F.conv2d(x, weights)"
   ]
  },
  {
   "cell_type": "markdown",
   "metadata": {},
   "source": [
    "NN ENTIER DANS UNE CLASSE AVEC UNE COUCHE CONV ET UNE COUCHE FULLY CONNECTED"
   ]
  },
  {
   "cell_type": "code",
   "execution_count": null,
   "metadata": {},
   "outputs": [],
   "source": [
    "class Network(nn.Module):\n",
    "    def __init__(self):\n",
    "        super(Network,self).__init__()\n",
    "        self.conv1=NN.Conv2d(in_channels=1,out_channels=6, kernel_size=5)\n",
    "        self.fc1=nn.Linear(in_features=12*4*4, out_features=128) # un couche fully connected pour faire de la classification, pour l'instant pas besoin, on travaille juste sur les kernels\n",
    "    def forward(self,t):\n",
    "        return t\n"
   ]
  },
  {
   "cell_type": "code",
   "execution_count": null,
   "metadata": {},
   "outputs": [],
   "source": [
    "network= Network()"
   ]
  }
 ],
 "metadata": {
  "interpreter": {
   "hash": "10504eabe9e4975a20aac45f38d97beb386351f1a85f88517fb3933ef56ec686"
  },
  "kernelspec": {
   "display_name": "Python 3.9.7 64-bit (windows store)",
   "name": "python3"
  },
  "language_info": {
   "codemirror_mode": {
    "name": "ipython",
    "version": 3
   },
   "file_extension": ".py",
   "mimetype": "text/x-python",
   "name": "python",
   "nbconvert_exporter": "python",
   "pygments_lexer": "ipython3",
   "version": "3.9.7"
  },
  "orig_nbformat": 4
 },
 "nbformat": 4,
 "nbformat_minor": 2
}
