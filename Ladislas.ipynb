{
 "cells": [
  {
   "cell_type": "markdown",
   "metadata": {},
   "source": [
    "excellent\n"
   ]
  },
  {
   "cell_type": "code",
   "execution_count": 8,
   "metadata": {},
   "outputs": [],
   "source": [
    "import torch\n",
    "import torch.nn.functional as F"
   ]
  },
  {
   "cell_type": "code",
   "execution_count": null,
   "metadata": {},
   "outputs": [],
   "source": [
    "class Network(nn.Module):\n",
    "    def __init__(self):\n",
    "        super(Network,self).__init__()\n",
    "        self.conv1=NN.Conv2d(in_channels=1,out_channels=6, kernel_size=5)\n",
    "        self.fc1=nn.Linear(in_features=12*4*4, out_features=128) # un couche fully connected pour faire de la classification, pour l'instant pas besoin, on travaille juste sur les kernels\n",
    "    def forward(self,t):\n",
    "        return t\n"
   ]
  },
  {
   "cell_type": "code",
   "execution_count": null,
   "metadata": {},
   "outputs": [],
   "source": [
    "network= Network()"
   ]
  },
  {
   "cell_type": "code",
   "execution_count": 9,
   "metadata": {},
   "outputs": [],
   "source": [
    "nb_channels = 1\n",
    "h, w = 5, 5\n",
    "x = torch.randn(1, nb_channels, h, w)\n",
    "weights = torch.tensor([[0., 0., 0.],\n",
    "                        [0., 1., 0.],\n",
    "                        [0., 0., 0.]])\n",
    "weights = weights.view(1, 1, 3, 3).repeat(1, nb_channels, 1, 1)\n",
    "\n",
    "output = F.conv2d(x, weights)"
   ]
  },
  {
   "cell_type": "code",
   "execution_count": 10,
   "metadata": {},
   "outputs": [],
   "source": [
    "nb_channels = 1\n",
    "h, w = 5, 5\n",
    "x = torch.randn(1, nb_channels, h, w)\n",
    "weights = torch.tensor([[[0., 0., 0.],\n",
    "                         [0., 1., 0.],\n",
    "                         [0., 0., 0.]],\n",
    "                        [[0., 0., 0.],\n",
    "                         [0., 1., 0.],\n",
    "                         [0., 0., 0.]]])\n",
    "weights = weights.view(2, 1, 3, 3)\n",
    "\n",
    "output = F.conv2d(x, weights)"
   ]
  }
 ],
 "metadata": {
  "interpreter": {
   "hash": "10504eabe9e4975a20aac45f38d97beb386351f1a85f88517fb3933ef56ec686"
  },
  "kernelspec": {
   "display_name": "Python 3.9.7 64-bit (windows store)",
   "name": "python3"
  },
  "language_info": {
   "codemirror_mode": {
    "name": "ipython",
    "version": 3
   },
   "file_extension": ".py",
   "mimetype": "text/x-python",
   "name": "python",
   "nbconvert_exporter": "python",
   "pygments_lexer": "ipython3",
   "version": "3.9.7"
  },
  "orig_nbformat": 4
 },
 "nbformat": 4,
 "nbformat_minor": 2
}
