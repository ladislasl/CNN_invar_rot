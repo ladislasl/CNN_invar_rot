{
 "cells": [
  {
   "cell_type": "markdown",
   "metadata": {},
   "source": [
    "QUESTIONS:\n",
    "si on transforme notre kernel de base en un kernel multi symétrique on change l'effet du kernel ?\n",
    "on devrait étudier le lien entre le kernel initial et celui transformé pour voir si ils ont les mêmes actions"
   ]
  },
  {
   "cell_type": "markdown",
   "metadata": {},
   "source": [
    "IMPORT DES FONCTIONS IMPORTANTES"
   ]
  },
  {
   "cell_type": "code",
   "execution_count": 258,
   "metadata": {},
   "outputs": [],
   "source": [
    "import torch\n",
    "import torch.nn.functional as F\n",
    "import torch.nn.utils.parametrize as parametrize\n",
    "import numpy as np"
   ]
  },
  {
   "cell_type": "markdown",
   "metadata": {},
   "source": [
    "TEST SUR LE ROT90"
   ]
  },
  {
   "cell_type": "code",
   "execution_count": 259,
   "metadata": {},
   "outputs": [
    {
     "name": "stdout",
     "output_type": "stream",
     "text": [
      "tensor([[[[0.0746, 0.8013],\n",
      "          [0.5658, 0.8074]]]])\n",
      "tensor([[0.0746, 0.8013],\n",
      "        [0.5658, 0.8074]])\n"
     ]
    }
   ],
   "source": [
    "#TEST SUR LE TORCH.RAND\n",
    "Input=torch.rand(2,2)\n",
    "Input3=Input.view(1,1,2,2)\n",
    "Input2=torch.rand(1,1,2,2)\n",
    "rot=torch.rot90(Input2,1,[1,0])\n",
    "print(Input3)\n",
    "print(Input)"
   ]
  },
  {
   "cell_type": "code",
   "execution_count": 260,
   "metadata": {},
   "outputs": [
    {
     "name": "stdout",
     "output_type": "stream",
     "text": [
      "tensor([[0.4871, 0.4713, 0.7952, 0.2852, 0.9969],\n",
      "        [0.8810, 0.0153, 0.7294, 0.2383, 0.1775],\n",
      "        [0.1849, 0.4055, 0.2073, 0.5270, 0.9851],\n",
      "        [0.5323, 0.0692, 0.5503, 0.9113, 0.8023],\n",
      "        [0.7195, 0.3831, 0.9697, 0.4001, 0.0875]])\n",
      "tensor([[0.9969, 0.1775, 0.9851, 0.8023, 0.0875],\n",
      "        [0.2852, 0.2383, 0.5270, 0.9113, 0.4001],\n",
      "        [0.7952, 0.7294, 0.2073, 0.5503, 0.9697],\n",
      "        [0.4713, 0.0153, 0.4055, 0.0692, 0.3831],\n",
      "        [0.4871, 0.8810, 0.1849, 0.5323, 0.7195]])\n"
     ]
    }
   ],
   "source": [
    "Input = torch.rand(5,5)\n",
    "print(Input)\n",
    "a=torch.rot90(Input, 1, [0, 1])\n",
    "print(a)\n",
    "\n",
    "#a = torch.arange(8).view(2, 2, 2)\n",
    "#print(x)\n",
    "#a=torch.rot90(x, 1, [1, 2])\n",
    "#print(a)\n"
   ]
  },
  {
   "cell_type": "markdown",
   "metadata": {},
   "source": [
    "TRANSFORMER UNE MATRICE EN UNE MATRICE SYMETRIQUE DE TOUTES DIRECTIONS"
   ]
  },
  {
   "cell_type": "code",
   "execution_count": 261,
   "metadata": {},
   "outputs": [
    {
     "name": "stdout",
     "output_type": "stream",
     "text": [
      "tensor([[3.2273, 1.1950, 3.2273],\n",
      "        [1.1950, 3.1209, 1.1950],\n",
      "        [3.2273, 1.1950, 3.2273]])\n"
     ]
    }
   ],
   "source": [
    "def invar(X):\n",
    "    a=torch.rot90(X, 1, [1,0])\n",
    "    b=torch.rot90(a, 1, [1,0])\n",
    "    c=torch.rot90(b, 1, [1,0])\n",
    "    d= X+a+b+c\n",
    "    return(d)\n",
    "K =  torch.Tensor([[1 ,0, -10],[2, 0 ,-2], [1, 0 ,-1]])\n",
    "\n",
    "K1=np.random.rand(3,3)\n",
    "K3 =  torch.Tensor(K1)\n",
    "K4=invar(K3)\n",
    "print(K4)\n",
    "\n"
   ]
  },
  {
   "cell_type": "markdown",
   "metadata": {},
   "source": [
    "Compréhension des axes à rotater"
   ]
  },
  {
   "cell_type": "code",
   "execution_count": 262,
   "metadata": {},
   "outputs": [
    {
     "name": "stdout",
     "output_type": "stream",
     "text": [
      "tensor([[ 0.4585,  1.7838, -0.0416,  1.9422,  0.9132],\n",
      "        [-0.8090,  0.5392, -0.3006, -1.1896,  0.4263],\n",
      "        [ 0.6069,  1.2992,  0.6947, -1.1122, -1.5121],\n",
      "        [-0.2070, -1.0169,  1.0773, -1.2422, -0.4116],\n",
      "        [-1.2209,  1.1831,  0.2081,  0.7900, -1.5373]])\n",
      "tensor([[-1.2209, -0.2070,  0.6069, -0.8090,  0.4585],\n",
      "        [ 1.1831, -1.0169,  1.2992,  0.5392,  1.7838],\n",
      "        [ 0.2081,  1.0773,  0.6947, -0.3006, -0.0416],\n",
      "        [ 0.7900, -1.2422, -1.1122, -1.1896,  1.9422],\n",
      "        [-1.5373, -0.4116, -1.5121,  0.4263,  0.9132]])\n",
      "tensor([[False, False, False, False, False],\n",
      "        [False, False, False, False, False],\n",
      "        [False, False,  True, False, False],\n",
      "        [False, False, False, False, False],\n",
      "        [False, False, False, False, False]])\n"
     ]
    }
   ],
   "source": [
    "#K =  torch.Tensor([[100 ,0, 0, 0,0 ],[0, 100 ,0, 0,0], [0, 0 ,100,0,0],[0, 0 ,0,100,0],[0, 0 ,0,0,100]])\n",
    "#print(K)\n",
    "#a=torch.rot90(K, 1, [1,0])\n",
    "#print(a)\n",
    "Input = torch.randn(5,5)\n",
    "#print(Input)\n",
    "Input2=torch.rot90(Input, 1, [1,0])\n",
    "print(Input)\n",
    "print(Input2)\n",
    "print(Input==Input2)"
   ]
  },
  {
   "cell_type": "markdown",
   "metadata": {},
   "source": [
    "TEST CONV2D"
   ]
  },
  {
   "cell_type": "code",
   "execution_count": 263,
   "metadata": {},
   "outputs": [
    {
     "name": "stdout",
     "output_type": "stream",
     "text": [
      "tensor([[[  1.,   0.,  -1.],\n",
      "         [  2.,   0., -10.],\n",
      "         [  1.,   0.,  -1.]],\n",
      "\n",
      "        [[  1.,   0.,  -1.],\n",
      "         [  2.,   0., -10.],\n",
      "         [  1.,   0.,  -1.]]])\n",
      "tensor([[[[1.2336, 1.7918, 1.2336],\n",
      "          [1.7918, 0.2721, 1.7918],\n",
      "          [1.2336, 1.7918, 1.2336]]]])\n"
     ]
    }
   ],
   "source": [
    "Input = torch.rand(1,1,5,5)\n",
    "#print(Input)\n",
    "K =  torch.Tensor([[[1 ,0, -1],[2, 0 ,-10], [1, 0 ,-1]],[[1 ,0, -1],[2, 0 ,-10], [1, 0 ,-1]]])\n",
    "#K=invar(K)\n",
    "#K=invar(K)\n",
    "print(K)\n",
    "#Kernel = K.view(2, 1, 3, 3)\n",
    "print(Kernel)\n",
    "output = F.conv2d(Input, Kernel)\n",
    "#print(output)\n"
   ]
  },
  {
   "cell_type": "markdown",
   "metadata": {},
   "source": [
    "cnn UNE COUCHE AVEC UNE IMAGE EN ENTREE"
   ]
  },
  {
   "cell_type": "code",
   "execution_count": 264,
   "metadata": {},
   "outputs": [
    {
     "name": "stdout",
     "output_type": "stream",
     "text": [
      "tensor([[[[0.2483, 0.7643, 0.4249, 0.4429, 0.0673],\n",
      "          [0.5771, 0.6249, 0.9133, 0.2514, 0.2264],\n",
      "          [0.2201, 0.0439, 0.3719, 0.6748, 0.1974],\n",
      "          [0.1820, 0.7790, 0.1176, 0.6281, 0.8441],\n",
      "          [0.6808, 0.7417, 0.9122, 0.7039, 0.1834]]]])\n",
      "tensor([[[[0.6808, 0.1820, 0.2201, 0.5771, 0.2483],\n",
      "          [0.7417, 0.7790, 0.0439, 0.6249, 0.7643],\n",
      "          [0.9122, 0.1176, 0.3719, 0.9133, 0.4249],\n",
      "          [0.7039, 0.6281, 0.6748, 0.2514, 0.4429],\n",
      "          [0.1834, 0.8441, 0.1974, 0.2264, 0.0673]]]])\n",
      "tensor([[[[2.2075, 1.9054, 2.2075],\n",
      "          [1.9054, 2.0730, 1.9054],\n",
      "          [2.2075, 1.9054, 2.2075]]]])\n"
     ]
    }
   ],
   "source": [
    "#Initialisation des images d'entrée et des kernels\n",
    "\n",
    "#IMAGE DROITE\n",
    "Input=torch.rand(5,5)\n",
    "Input1 = Input.view(1,1,5,5)\n",
    "print(Input1)\n",
    "\n",
    "\n",
    "#IMAGE TOURNEE\n",
    "Input2=torch.rot90(Input, 1, [1,0])\n",
    "Input3=Input2.view(1,1,5,5)\n",
    "print(Input3)\n",
    "\n",
    "\n",
    "#KERNEL\n",
    "K=np.random.rand(3,3)\n",
    "K1 =  torch.Tensor(K)\n",
    "K2=invar(K1)\n",
    "Kernel=K2.view(1,1,3,3)\n",
    "print(Kernel)\n",
    "\n",
    "\n"
   ]
  },
  {
   "cell_type": "code",
   "execution_count": 265,
   "metadata": {},
   "outputs": [
    {
     "name": "stdout",
     "output_type": "stream",
     "text": [
      "tensor([[[[ 4.4502,  7.3480,  6.8558,  4.8510,  1.9698],\n",
      "          [ 5.0638,  8.4684,  9.3328,  7.1659,  3.9201],\n",
      "          [ 5.0856,  7.8458,  9.1456,  8.7985,  5.6763],\n",
      "          [ 5.3126,  8.5062, 10.1495,  9.4368,  6.7157],\n",
      "          [ 4.8910,  6.7185,  7.9758,  6.8665,  4.7163]]]])\n"
     ]
    }
   ],
   "source": [
    "#Input1 = torch.randn(1,1,5,5)\n",
    "#rint(Input1)\n",
    "#Input2=torch.rot90(Input1, 1, [1,0])\n",
    "#print(Input2)\n",
    "#print(Input2)  # création de 2 inputs avec une rotation de 90° entre eux\n",
    "\n",
    "#print(Input==Input2)\n",
    "#K=np.random.rand(3,3)\n",
    "#K1 =  torch.Tensor(K)\n",
    "#K2=invar(K1)\n",
    "#print(K2)\n",
    "\n",
    "#K3 = torch.cat((K2, K2), 0)\n",
    "\n",
    "#Kernel = K3.view(2, 1, 3, 3)\n",
    "#Kernel=K2.view(1,1,3,3)\n",
    "\n",
    "output1 = F.conv2d(Input1, Kernel,padding=(1, 1))\n",
    "#output2 = F.conv2d(Input2, Kernel,padding=(1, 1))\n",
    "print(output1)\n",
    "#print(output2)\n",
    "#print(output1==output2)\n",
    "\n",
    "#PROBLEME PAS CLAIR ICI, QUE JE LANCE OUTPUT 1 ET OUTPUT 2 SEPAREMENT ILS ONT DES VALEURS DIFFERENTES ET QUAND JE LES LANCE EN MEME TEMPS CA DONNE LA \n",
    "#MEME VALEUR HAHAHAH\n",
    "\n",
    "#EN FAIT IL MANQUE IL PAIRE DE CROCHET AU KERNEL POUR EN FAIRE UN WEIGHT\n"
   ]
  },
  {
   "cell_type": "markdown",
   "metadata": {},
   "source": [
    "MEME CNN UNE COUCHE AVEC EN ENTREE LA MEME IMAGE MAIS TOURNEE"
   ]
  },
  {
   "cell_type": "code",
   "execution_count": 266,
   "metadata": {},
   "outputs": [
    {
     "name": "stdout",
     "output_type": "stream",
     "text": [
      "tensor([[[[ 4.8910,  5.3126,  5.0856,  5.0638,  4.4502],\n",
      "          [ 6.7185,  8.5062,  7.8458,  8.4684,  7.3480],\n",
      "          [ 7.9758, 10.1495,  9.1456,  9.3328,  6.8558],\n",
      "          [ 6.8665,  9.4368,  8.7985,  7.1659,  4.8510],\n",
      "          [ 4.7163,  6.7157,  5.6763,  3.9201,  1.9698]]]])\n"
     ]
    }
   ],
   "source": [
    "#Input1 = torch.randn(5,5)\n",
    "#print(Input)\n",
    "#Input2=torch.rot90(Input1, 1, [1,0])\n",
    "#Input3=Input2.view(1,1,5,5)\n",
    "#print(Input1)\n",
    "#print(Input3)\n",
    "#CEST BON LIMAGE TOURRRNNNNNNNNNNNE AVEC VIEW MIS APRES\n",
    "#print(Input)\n",
    "#print(Input2)  # création de 2 inputs avec une rotation de 90° entre eux\n",
    "\n",
    "\n",
    "#K=np.random.rand(3,3)\n",
    "#K1 =  torch.Tensor(K)\n",
    "#K2=invar(K1)\n",
    "#print(K2)\n",
    "#LE KERNEL EST BIEN INVARIANT PAR ROTATION\n",
    "#K3 = torch.cat((K2, K2), 0)\n",
    "\n",
    "#Kernel = K3.view(2, 1, 3, 3)\n",
    "#Kernel = K2.view(1,1,3,3)\n",
    "#output1 = F.conv2d(Input1, Kernel,padding=(1, 1))\n",
    "output2 = F.conv2d(Input3, Kernel,padding=(1, 1))\n",
    "#print(output1)\n",
    "print(output2)\n",
    "#print(output1==output2)\n"
   ]
  },
  {
   "cell_type": "code",
   "execution_count": 267,
   "metadata": {},
   "outputs": [
    {
     "name": "stdout",
     "output_type": "stream",
     "text": [
      "image origine =\n",
      "tensor([[[[0.2483, 0.7643, 0.4249, 0.4429, 0.0673],\n",
      "          [0.5771, 0.6249, 0.9133, 0.2514, 0.2264],\n",
      "          [0.2201, 0.0439, 0.3719, 0.6748, 0.1974],\n",
      "          [0.1820, 0.7790, 0.1176, 0.6281, 0.8441],\n",
      "          [0.6808, 0.7417, 0.9122, 0.7039, 0.1834]]]])\n",
      "image tournée de 90°=\n",
      "tensor([[0.6808, 0.1820, 0.2201, 0.5771, 0.2483],\n",
      "        [0.7417, 0.7790, 0.0439, 0.6249, 0.7643],\n",
      "        [0.9122, 0.1176, 0.3719, 0.9133, 0.4249],\n",
      "        [0.7039, 0.6281, 0.6748, 0.2514, 0.4429],\n",
      "        [0.1834, 0.8441, 0.1974, 0.2264, 0.0673]])\n",
      "Sortie du CNN pour image origine =\n",
      "tensor([[[[ 4.4502,  7.3480,  6.8558,  4.8510,  1.9698],\n",
      "          [ 5.0638,  8.4684,  9.3328,  7.1659,  3.9201],\n",
      "          [ 5.0856,  7.8458,  9.1456,  8.7985,  5.6763],\n",
      "          [ 5.3126,  8.5062, 10.1495,  9.4368,  6.7157],\n",
      "          [ 4.8910,  6.7185,  7.9758,  6.8665,  4.7163]]]])\n",
      "sortie du CNN pour image tournée de 90° =\n",
      "tensor([[[[ 4.8910,  5.3126,  5.0856,  5.0638,  4.4502],\n",
      "          [ 6.7185,  8.5062,  7.8458,  8.4684,  7.3480],\n",
      "          [ 7.9758, 10.1495,  9.1456,  9.3328,  6.8558],\n",
      "          [ 6.8665,  9.4368,  8.7985,  7.1659,  4.8510],\n",
      "          [ 4.7163,  6.7157,  5.6763,  3.9201,  1.9698]]]])\n"
     ]
    }
   ],
   "source": [
    "print('image origine =')\n",
    "print(Input1)\n",
    "print('image tournée de 90°=')\n",
    "print(Input2)\n",
    "\n",
    "print('Sortie du CNN pour image origine =')\n",
    "print(output1)\n",
    "print('sortie du CNN pour image tournée de 90° =')\n",
    "print(output2)"
   ]
  },
  {
   "cell_type": "markdown",
   "metadata": {},
   "source": [
    "C'EST INVARIANT PAR ROTATION\n",
    "IL RESTE DEMAIN A FAIRE UNE PETITE ROTATION DANS LAUTRE SENS ET MONTRER QUE CEST LES MEMES !!!!!!!!!! MAIS CA SE VOIT BIEN "
   ]
  },
  {
   "cell_type": "markdown",
   "metadata": {},
   "source": [
    "LA SORTIE NEST PAS LA MEME SORTIE QUE LAUTRE AVEC UNE ROTATION PRB AVEC LES KERNELS EN ENTREE PCQ ON PRENDS DES KERNELS 332 POUR QUE CA MARCHE MAIS JSP POURQUOI"
   ]
  },
  {
   "cell_type": "markdown",
   "metadata": {},
   "source": [
    "TEST CREATION KERNEL TAILLE 3*3*2"
   ]
  },
  {
   "cell_type": "code",
   "execution_count": 268,
   "metadata": {},
   "outputs": [
    {
     "name": "stdout",
     "output_type": "stream",
     "text": [
      "[[0.65629061 0.03921562 0.32412561]\n",
      " [0.15907867 0.27573221 0.41600818]\n",
      " [0.73929109 0.37389222 0.61402763]]\n"
     ]
    }
   ],
   "source": [
    "K=np.random.rand(3,3)\n",
    "print(K)\n",
    "K1 =  torch.Tensor([K,K])\n",
    "#K=invar(K)\n"
   ]
  },
  {
   "cell_type": "code",
   "execution_count": 269,
   "metadata": {},
   "outputs": [
    {
     "name": "stdout",
     "output_type": "stream",
     "text": [
      "tensor([[[[ 0.9197,  0.6246, -0.5283,  0.3123, -0.2951],\n",
      "          [-0.9506, -0.8133, -0.7338,  0.2097,  0.0402],\n",
      "          [-1.3254,  0.3065,  0.5334,  0.5418, -0.7939],\n",
      "          [-0.2235,  0.9542,  0.4922,  0.2611,  0.8706],\n",
      "          [ 0.1989, -0.4099,  0.9503, -0.2401, -0.2681]]]])\n",
      "tensor([[[[0., 0., 0.],\n",
      "          [0., 1., 0.],\n",
      "          [0., 0., 0.]]],\n",
      "\n",
      "\n",
      "        [[[0., 0., 0.],\n",
      "          [0., 1., 0.],\n",
      "          [0., 0., 0.]]]])\n"
     ]
    }
   ],
   "source": [
    "nb_channels = 1\n",
    "h, w = 5, 5\n",
    "x = torch.randn(1, nb_channels, h, w)\n",
    "print(x)\n",
    "weights = torch.tensor([[[0., 0., 0.],\n",
    "                         [0., 1., 0.],\n",
    "                         [0., 0., 0.]],\n",
    "                        [[0., 0., 0.],\n",
    "                         [0., 1., 0.],\n",
    "                         [0., 0., 0.]]])\n",
    "weights = weights.view(2, 1, 3, 3)\n",
    "print(weights)\n",
    "output = F.conv2d(x, weights)"
   ]
  },
  {
   "cell_type": "markdown",
   "metadata": {},
   "source": [
    "NN ENTIER DANS UNE CLASSE AVEC UNE COUCHE CONV ET UNE COUCHE FULLY CONNECTED"
   ]
  },
  {
   "cell_type": "code",
   "execution_count": 270,
   "metadata": {},
   "outputs": [
    {
     "ename": "NameError",
     "evalue": "name 'nn' is not defined",
     "output_type": "error",
     "traceback": [
      "\u001b[1;31m---------------------------------------------------------------------------\u001b[0m",
      "\u001b[1;31mNameError\u001b[0m                                 Traceback (most recent call last)",
      "\u001b[1;32m~\\AppData\\Local\\Temp/ipykernel_13656/3433990939.py\u001b[0m in \u001b[0;36m<module>\u001b[1;34m\u001b[0m\n\u001b[1;32m----> 1\u001b[1;33m \u001b[1;32mclass\u001b[0m \u001b[0mNetwork\u001b[0m\u001b[1;33m(\u001b[0m\u001b[0mnn\u001b[0m\u001b[1;33m.\u001b[0m\u001b[0mModule\u001b[0m\u001b[1;33m)\u001b[0m\u001b[1;33m:\u001b[0m\u001b[1;33m\u001b[0m\u001b[1;33m\u001b[0m\u001b[0m\n\u001b[0m\u001b[0;32m      2\u001b[0m     \u001b[1;32mdef\u001b[0m \u001b[0m__init__\u001b[0m\u001b[1;33m(\u001b[0m\u001b[0mself\u001b[0m\u001b[1;33m)\u001b[0m\u001b[1;33m:\u001b[0m\u001b[1;33m\u001b[0m\u001b[1;33m\u001b[0m\u001b[0m\n\u001b[0;32m      3\u001b[0m         \u001b[0msuper\u001b[0m\u001b[1;33m(\u001b[0m\u001b[0mNetwork\u001b[0m\u001b[1;33m,\u001b[0m\u001b[0mself\u001b[0m\u001b[1;33m)\u001b[0m\u001b[1;33m.\u001b[0m\u001b[0m__init__\u001b[0m\u001b[1;33m(\u001b[0m\u001b[1;33m)\u001b[0m\u001b[1;33m\u001b[0m\u001b[1;33m\u001b[0m\u001b[0m\n\u001b[0;32m      4\u001b[0m         \u001b[0mself\u001b[0m\u001b[1;33m.\u001b[0m\u001b[0mconv1\u001b[0m\u001b[1;33m=\u001b[0m\u001b[0mNN\u001b[0m\u001b[1;33m.\u001b[0m\u001b[0mConv2d\u001b[0m\u001b[1;33m(\u001b[0m\u001b[0min_channels\u001b[0m\u001b[1;33m=\u001b[0m\u001b[1;36m1\u001b[0m\u001b[1;33m,\u001b[0m\u001b[0mout_channels\u001b[0m\u001b[1;33m=\u001b[0m\u001b[1;36m6\u001b[0m\u001b[1;33m,\u001b[0m \u001b[0mkernel_size\u001b[0m\u001b[1;33m=\u001b[0m\u001b[1;36m5\u001b[0m\u001b[1;33m)\u001b[0m\u001b[1;33m\u001b[0m\u001b[1;33m\u001b[0m\u001b[0m\n\u001b[0;32m      5\u001b[0m         \u001b[0mself\u001b[0m\u001b[1;33m.\u001b[0m\u001b[0mfc1\u001b[0m\u001b[1;33m=\u001b[0m\u001b[0mnn\u001b[0m\u001b[1;33m.\u001b[0m\u001b[0mLinear\u001b[0m\u001b[1;33m(\u001b[0m\u001b[0min_features\u001b[0m\u001b[1;33m=\u001b[0m\u001b[1;36m12\u001b[0m\u001b[1;33m*\u001b[0m\u001b[1;36m4\u001b[0m\u001b[1;33m*\u001b[0m\u001b[1;36m4\u001b[0m\u001b[1;33m,\u001b[0m \u001b[0mout_features\u001b[0m\u001b[1;33m=\u001b[0m\u001b[1;36m128\u001b[0m\u001b[1;33m)\u001b[0m \u001b[1;31m# un couche fully connected pour faire de la classification, pour l'instant pas besoin, on travaille juste sur les kernels\u001b[0m\u001b[1;33m\u001b[0m\u001b[1;33m\u001b[0m\u001b[0m\n",
      "\u001b[1;31mNameError\u001b[0m: name 'nn' is not defined"
     ]
    }
   ],
   "source": [
    "class Network(nn.Module):\n",
    "    def __init__(self):\n",
    "        super(Network,self).__init__()\n",
    "        self.conv1=NN.Conv2d(in_channels=1,out_channels=6, kernel_size=5)\n",
    "        self.fc1=nn.Linear(in_features=12*4*4, out_features=128) # un couche fully connected pour faire de la classification, pour l'instant pas besoin, on travaille juste sur les kernels\n",
    "    def forward(self,t):\n",
    "        return t\n"
   ]
  },
  {
   "cell_type": "code",
   "execution_count": null,
   "metadata": {},
   "outputs": [],
   "source": [
    "network= Network()"
   ]
  }
 ],
 "metadata": {
  "interpreter": {
   "hash": "10504eabe9e4975a20aac45f38d97beb386351f1a85f88517fb3933ef56ec686"
  },
  "kernelspec": {
   "display_name": "Python 3.9.7 64-bit (windows store)",
   "name": "python3"
  },
  "language_info": {
   "codemirror_mode": {
    "name": "ipython",
    "version": 3
   },
   "file_extension": ".py",
   "mimetype": "text/x-python",
   "name": "python",
   "nbconvert_exporter": "python",
   "pygments_lexer": "ipython3",
   "version": "3.9.7"
  },
  "orig_nbformat": 4
 },
 "nbformat": 4,
 "nbformat_minor": 2
}
