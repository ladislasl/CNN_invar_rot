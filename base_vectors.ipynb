{
 "cells": [
  {
   "cell_type": "markdown",
   "metadata": {},
   "source": [
    "fonction création de cercles concentriques sur une matrice quelquonque"
   ]
  },
  {
   "cell_type": "code",
   "execution_count": null,
   "metadata": {},
   "outputs": [],
   "source": [
    "import numpy as np\n",
    "import matplotlib.pyplot as plt\n",
    "from PIL import Image"
   ]
  },
  {
   "cell_type": "code",
   "execution_count": 32,
   "metadata": {},
   "outputs": [
    {
     "data": {
      "image/png": "[encoded data removed]",
      "text/plain": [
       "<Figure size 432x288 with 1 Axes>"
      ]
     },
     "metadata": {
      "needs_background": "light"
     },
     "output_type": "display_data"
    },
    {
     "data": {
      "image/png": "[encoded data removed]",
      "text/plain": [
       "<Figure size 432x288 with 1 Axes>"
      ]
     },
     "metadata": {
      "needs_background": "light"
     },
     "output_type": "display_data"
    },
    {
     "data": {
      "image/png": "[encoded data removed]",
      "text/plain": [
       "<Figure size 432x288 with 1 Axes>"
      ]
     },
     "metadata": {
      "needs_background": "light"
     },
     "output_type": "display_data"
    },
    {
     "data": {
      "image/png": "[encoded data removed]",
      "text/plain": [
       "<Figure size 432x288 with 1 Axes>"
      ]
     },
     "metadata": {
      "needs_background": "light"
     },
     "output_type": "display_data"
    },
    {
     "data": {
      "image/png": "[encoded data removed]",
      "text/plain": [
       "<Figure size 432x288 with 1 Axes>"
      ]
     },
     "metadata": {
      "needs_background": "light"
     },
     "output_type": "display_data"
    },
    {
     "data": {
      "image/png": "[encoded data removed]",
      "text/plain": [
       "<Figure size 432x288 with 1 Axes>"
      ]
     },
     "metadata": {
      "needs_background": "light"
     },
     "output_type": "display_data"
    }
   ],
   "source": [
    "\n",
    "taille_matrice=9\n",
    "\n",
    "def distance_point_centre(i,j,taille):\n",
    "    \n",
    "        centre = taille/2 \n",
    "        distance = np.sqrt(((i+0.5)-centre)**2 + ((j+0.5)-centre)**2)\n",
    "        return distance\n",
    "\n",
    "\n",
    "\n",
    "def cercleconc(taille):\n",
    "    l=[]\n",
    "    for k in range (0,taille//2+2):\n",
    "        \n",
    "        base= np.zeros((taille,taille))\n",
    "        \n",
    "        for i in range(taille):\n",
    "            for j in range(taille):\n",
    "                \n",
    "                if distance_point_centre(i,j,taille)< k+0.2 and distance_point_centre(i,j,taille) > k-0.6:\n",
    "                    base[i,j]=1\n",
    "                    base[j,i]=1\n",
    "                    \n",
    "                \n",
    "\n",
    "        l.append(base)\n",
    "        \n",
    "    return(l)\n",
    "\n",
    "\n",
    "\n",
    "liste=cercleconc(taille_matrice)\n",
    "\n",
    "for mat in liste:\n",
    "    plt.imshow(mat)\n",
    "    plt.show()\n"
   ]
  },
  {
   "cell_type": "code",
   "execution_count": 33,
   "metadata": {},
   "outputs": [
    {
     "data": {
      "image/png": "[encoded data removed]",
      "text/plain": [
       "<Figure size 432x288 with 1 Axes>"
      ]
     },
     "metadata": {
      "needs_background": "light"
     },
     "output_type": "display_data"
    }
   ],
   "source": [
    "base=liste[0]\n",
    "for k in range (1,taille_matrice//2+2):\n",
    "    base=base+(2*k)*liste[k-1]\n",
    "\n",
    "plt.imshow(base)\n",
    "plt.show()\n",
    "\n",
    "\n",
    "\n",
    "\n",
    "\n",
    "        "
   ]
  },
  {
   "cell_type": "code",
   "execution_count": 1,
   "metadata": {},
   "outputs": [],
   "source": [
    "\n",
    "\n",
    "def build_base_vectors(self):\n",
    "    kernel_size = self.init_kernel_size\n",
    "    base_vectors = []\n",
    "    taille = kernel_size\n",
    "        \n",
    "    def distance_point_centre(i,j,taille):\n",
    "        centre = taille/2 - 0.5\n",
    "        distance = np.sqrt(((i+0.5)-centre)**2 + ((j+0.5)-centre)**2)\n",
    "        return distance\n",
    "        \n",
    "    for k in range (0,taille//2):\n",
    "        base= np.zeros((taille,taille))\n",
    "        for i in range(taille):\n",
    "            for j in range(taille):\n",
    "                print(i,j,distance_point_centre(i,j,taille))\n",
    "                if distance_point_centre(i,j,taille)< k+0.5 and distance_point_centre(i,j,taille) > k-0.5:\n",
    "                    base[i,j]=1\n",
    "                    base[j,i]=1\n",
    "        \n",
    "        \n",
    "    base_vectors.append(base)\n",
    "    base_vectors = np.asarray(base_vectors)\n",
    "    return base_vectors\n",
    "\n",
    "##\n",
    "\n",
    "\n",
    "\n",
    "def build_base_vectors(self):\n",
    "    kernel_size = self.init_kernel_size\n",
    "    dimensions = self.init_dimensions\n",
    "    base_vectors = []\n",
    "    taille = kernel_size\n",
    "    centre = taille/2 \n",
    "    for k in range (0,taille//2):\n",
    "        base= np.zeros([taille]*dimensions)\n",
    "        for i in range(taille):\n",
    "            for j in range(taille):\n",
    "                \n",
    "                if np.sqrt(((i+0.5)-centre)**2 + ((j+0.5)-centre)**2)< k+0.1 and np.sqrt(((i+0.5)-centre)**2 + ((j+0.5)-centre)**2) > k-0.6:\n",
    "                    base[i,j]=1\n",
    "                    base[j,i]=1\n",
    "        base_vectors.append(base)\n",
    "        \n",
    "    base_vectors = np.asarray(base_vectors)\n",
    "    return base_vectors\n",
    "\n"
   ]
  },
  {
   "cell_type": "code",
   "execution_count": null,
   "metadata": {},
   "outputs": [],
   "source": [
    "    def build_base_vectors(self):\n",
    "        kernel_size = self.init_kernel_size\n",
    "        middle = kernel_size // 2\n",
    "        dimensions = self.init_dimensions\n",
    "\n",
    "        base_vectors = []\n",
    "        # Burning phase: determine the number of base vectors\n",
    "        unique_distances = []\n",
    "        if dimensions == 2:\n",
    "            for i in range(kernel_size):\n",
    "                for j in range(kernel_size):\n",
    "                    i_ = abs(i - middle)\n",
    "                    j_ = abs(j - middle)\n",
    "                    unique_distances.append(int(i_ * i_ + j_ * j_))\n",
    "        elif dimensions == 3:\n",
    "            for i in range(kernel_size):\n",
    "                for j in range(kernel_size):\n",
    "                    for k in range(kernel_size):\n",
    "                        i_ = abs(i - middle)\n",
    "                        j_ = abs(j - middle)\n",
    "                        k_ = abs(k - middle)\n",
    "                        unique_distances.append(int(i_ * i_ + j_ * j_ + k_ * k_))\n",
    "        unique_distances, distances_counts = np.unique(unique_distances, return_counts=True)\n",
    "        unique_distances = np.sort(unique_distances)\n",
    "        print(*zip(unique_distances, distances_counts), len(unique_distances))\n",
    "\n",
    "        for unique_distance, n in zip(unique_distances, distances_counts):  # number of base vectors\n",
    "            base_vector = np.zeros([kernel_size] * dimensions)\n",
    "            if dimensions == 2:\n",
    "                for i in range(kernel_size):\n",
    "                    for j in range(kernel_size):\n",
    "                        i_ = abs(i - middle)\n",
    "                        j_ = abs(j - middle)\n",
    "                        if int(i_ * i_ + j_ * j_) == unique_distance:\n",
    "                            base_vector[i, j] = 1./n\n",
    "            elif dimensions == 3:\n",
    "                for i in range(kernel_size):\n",
    "                    for j in range(kernel_size):\n",
    "                        for k in range(kernel_size):\n",
    "                            i_ = abs(i - middle)\n",
    "                            j_ = abs(j - middle)\n",
    "                            k_ = abs(k - middle)\n",
    "                            if int(i_ * i_ + j_ * j_ + k_ * k_) == unique_distance:\n",
    "                                base_vector[i, j, k] = 1./n\n",
    "            base_vectors.append(base_vector)\n",
    "        base_vectors = np.asarray(base_vectors)\n",
    "        return base_vectors\n"
   ]
  }
 ],
 "metadata": {
  "interpreter": {
   "hash": "dce91a682e89c37dcdf164f2f9ffe6093031df8b34174439161e49eba94690b9"
  },
  "kernelspec": {
   "display_name": "Python 3.9.7 64-bit ('base': conda)",
   "language": "python",
   "name": "python3"
  },
  "language_info": {
   "codemirror_mode": {
    "name": "ipython",
    "version": 3
   },
   "file_extension": ".py",
   "mimetype": "text/x-python",
   "name": "python",
   "nbconvert_exporter": "python",
   "pygments_lexer": "ipython3",
   "version": "3.8.5"
  },
  "orig_nbformat": 4
 },
 "nbformat": 4,
 "nbformat_minor": 2
}
